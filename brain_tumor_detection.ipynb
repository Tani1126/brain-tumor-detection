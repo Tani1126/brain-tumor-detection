{
  "cells": [
    {
      "cell_type": "markdown",
      "metadata": {
        "id": "view-in-github",
        "colab_type": "text"
      },
      "source": [
        "<a href=\"https://colab.research.google.com/github/Tani1126/brain-tumor-detection/blob/main/brain_tumor_detection.ipynb\" target=\"_parent\"><img src=\"https://colab.research.google.com/assets/colab-badge.svg\" alt=\"Open In Colab\"/></a>"
      ]
    },
    {
      "cell_type": "markdown",
      "metadata": {
        "id": "Pk8SdWdxXPj9"
      },
      "source": [
        "<a href=\"#\"><img src=\"https://miro.medium.com/max/493/1*_pCEmeOrVkayCFER33o4Cw.jpeg\" alt=\"Brain\" /></a>"
      ]
    },
    {
      "cell_type": "markdown",
      "metadata": {
        "id": "vZo9OHdBXPj-"
      },
      "source": [
        "Image credit:https://acsjournals.onlinelibrary.wiley.com/doi/full/10.1002/cncr.23741"
      ]
    },
    {
      "cell_type": "markdown",
      "metadata": {
        "id": "625bba10"
      },
      "source": [
        "<a id=\"toc\"><font color=\"Purple\" ></font></a>\n",
        "\n",
        "<center>\n",
        "<h1 class=\"list-group-item list-group-item-action active\" data-toggle=\"list\" role=\"tab\" aria-controls=\"home\"><font color=\"Purple\" >Brain Tumor Detection</font></h1>\n",
        "</center>\n",
        "\n",
        "\n",
        "\n",
        "* [   PREFACE,](#0)\n",
        "* [1) LIBRARIES NEEDED IN THE STUDY](#1)\n",
        "    * [1.1 User Defined Functions](#1.1)\n",
        "* [2) DATA](#2)\n",
        "    * [2.1 Context](#2.1)\n",
        "    * [2.2 About the Features](#2.2)\n",
        "    * [2.3 What the Problem is](#2.3)\n",
        "    * [2.4 Target Variable](#2.3)\n",
        "* [3) ANALYSIS](#3)\n",
        "    * [3.1) Reading the Data](#3)\n",
        "* [4) EXPLORATORY DATA ANALYSIS (EDA) & VISUALIZATION](#4)\n",
        "    * [4.1 A General Looking at the Data](#4.1)\n",
        "    * [4.1.1. Handling With Missing Values](#4.1.1)\n",
        "    * [4.2 - The Examination of Target Variable](#4.2)\n",
        "    * [4.3 - The Examination of Numerical Features](#4.3)\n",
        "    * [4.4 - The Examination of Skewness & Kurtosis](#4.4)\n",
        "       \n",
        "* [5) TRAIN | TEST SPLIT ](#5)    \n",
        "    * [5.1 Train | Test Split](#5.1)\n",
        "    \n",
        "* [6) FEATURE SCALLING](#6)\n",
        "    * [6.1 The Implementation of Scaling](#6.1)\n",
        "    * [6.2 General Insights Before Going Further](#6.2)    \n",
        "    * [6.3 Handling with Skewness with PowerTransform & Checking Model Accuracy Scores](#6.3)\n",
        "* [7) MODELLING](#7)    \n",
        "    * [7.1 The Implementation of Logistic Regression (LR)](#7.1)\n",
        "        * [7.1.a Modelling Logistic Regression (LR) with Default Parameters](#7.1.a)\n",
        "        * [7.1.b Modelling Logistic Regression (LR) with Best Parameters Using GridSearchCV](#7.1.b)\n",
        "        * [7.1.c ROC (Receiver Operating Curve) and AUC (Area Under Curve)](#7.1.c)\n",
        "    * [7.2 The Implementation of Support Vector Machine (SVM)](#7.2)\n",
        "        * [7.2.a Modelling Support Vector Machine (SVM) with Default Parameters](#7.2.a)\n",
        "        * [7.2.b Modelling Support Vector Machine (SVM) with Best Parameters Using GridSearchCV](#7.2.b)\n",
        "        * [7.2.c ROC (Receiver Operating Curve) and AUC (Area Under Curve)](#7.2.c)     \n",
        "    * [7.3 The Implementation of Decision Tree (DT)](#7.3)\n",
        "        * [7.3.a Modelling Decision Tree (DT) with Default Parameters](#7.3.a)\n",
        "        * [7.3.b Modelling Decision Tree (DT) with Best Parameters Using GridSeachCV](#7.3.b)\n",
        "        * [7.3.c ROC (Receiver Operating Curve) and AUC (Area Under Curve)](#7.3.c)\n",
        "        * [7.3.d The Visualization of the Tree](#7.3.d)\n",
        "    * [7.4 The Implementation of Random Forest (RF)](#7.4)\n",
        "        * [7.4.a Modelling Random Forest (RF) with Default Parameters](#7.4.a)\n",
        "        * [7.4.b Modelling Random Forest (RF) with Best Parameters Using GridSeachCV](#7.4.b)\n",
        "        * [7.4.c ROC (Receiver Operating Curve) and AUC (Area Under Curve)](#7.4.c)   \n",
        "    * [7.5 The Implementation of K-Nearest Neighbor (KNN)](#7.5)\n",
        "        * [7.5.a Modelling K-Nearest Neighbor (KNN) with Default Parameters](#7.5.a)\n",
        "        * [7.5.b Cross-Validating K-Nearest Neighbor (KNN)](#7.5.b)\n",
        "        * [7.5.c Elbow Method for Choosing Reasonable K Values](#7.5.c)\n",
        "        * [7.5.d GridsearchCV for Choosing Reasonable K Values](#7.5.d)   \n",
        "        * [7.5.e ROC (Receiver Operating Curve) and AUC (Area Under Curve)](#7.5.e)\n",
        "    * [7.6 The Implementation of GradientBoosting (GB)](#7.6)\n",
        "        * [7.6.a Modelling GradientBoosting (GB) with Default Parameters](#7.6.a)\n",
        "        * [7.6.b Feature Importance for GradientBoosting (GB) Model](#7.6.b)\n",
        "        * [7.6.c Modelling GradientBoosting (GB) with Best Parameters Using GridSearchCV](#7.6.c)        \n",
        "        * [7.6.d ROC (Receiver Operating Curve) and AUC (Area Under Curve)](#7.6.d)       \n",
        "    * [7.7 The Implementation of AdaBoosting (AB)](#7.7)\n",
        "        * [7.7.a Modelling AdaBoosting (AB) with Default Parameters & Model Performance](#7.7.a)\n",
        "        * [7.7.b Modelling AdaBoosting (AB) with Best Parameters Using GridSearchCV](#7.7.b)\n",
        "        * [7.7.c ROC (Receiver Operating Curve) and AUC (Area Under Curve)](#7.7.c)       \n",
        "    * [7.8 The Implementation of XGBoosting (XGB)](#7.8)\n",
        "        * [7.8.a Modelling XGBoosting (XGB) with Default Parameters](#7.8.a)\n",
        "        * [7.8.b Modelling XGBoosting (XGB) with Best Parameters Using GridSearchCV](#7.8.b)     \n",
        "        * [7.8.c ROC (Receiver Operating Curve) and AUC (Area Under Curve)](#7.8.c)     \n",
        "* [8) THE COMPARISON OF MODELS](#8)\n",
        "* [9) CONLUSION](#9)\n",
        "* [10) REFERENCES](#10)\n",
        "* [11) FURTHER READINGS](#11)\n"
      ]
    },
    {
      "cell_type": "markdown",
      "metadata": {
        "id": "e90aa6cb"
      },
      "source": [
        "<a id=\"0\"></a>\n",
        "<font color=\"purple\" size=+2.5><b>PREFACE</b></font>\n",
        "\n",
        "<a href=\"#toc\" class=\"btn btn-primary btn-sm\" role=\"button\" aria-pressed=\"true\"\n",
        "style=\"color:white\" data-toggle=\"popover\">Table of Contents</a>\n",
        "\n",
        "Exploratory Data Analysis (EDA) of this project and a variety of Model Classifications including Logistic Regression (LR), Support Vector Machine (SVM), AdaBoosting (AB), GradientBoosting (GB), K-Nearest Neighbors (KNN), Random Forest (RF), Desicion Tree (DT), XGBoost (XGB), this study will examine the dataset named as \"risk_of_brain_tumor\" under the 'Brain' \"csv\" file at Data world website [external link text](https://data.world/seekersoftec/risk-of-brain-tumor/workspace/file?filename=risk_of_brain_tumor.csv).\n",
        "\n",
        "This study, in general, will cover what any beginner in Machine Learning can do as much as possible for a better understanding with the given dataset not only by examining its various aspects but also visualising it. Later S/he will be familiar with eight (8) Classification Algorithms in Machine Learning."
      ]
    },
    {
      "cell_type": "markdown",
      "metadata": {
        "id": "be8bab06"
      },
      "source": [
        "<a id=\"1\"></a>\n",
        "<font color=\"purple\" size=+2.5><b>1) LIBRARIES NEEDED IN THE STUDY</b></font>\n",
        "\n",
        "<a href=\"#toc\" class=\"btn btn-primary btn-sm\" role=\"button\" aria-pressed=\"true\"\n",
        "style=\"color:white\" data-toggle=\"popover\">Table of Contents</a>"
      ]
    },
    {
      "cell_type": "code",
      "execution_count": null,
      "metadata": {
        "colab": {
          "base_uri": "https://localhost:8080/"
        },
        "id": "869a9af2",
        "outputId": "c6c57d01-84c6-43ea-d410-29d19e183edd"
      },
      "outputs": [
        {
          "output_type": "stream",
          "name": "stdout",
          "text": [
            "Collecting pyforest\n",
            "  Downloading pyforest-1.1.0.tar.gz (15 kB)\n",
            "  Preparing metadata (setup.py) ... \u001b[?25l\u001b[?25hdone\n",
            "Building wheels for collected packages: pyforest\n",
            "  Building wheel for pyforest (setup.py) ... \u001b[?25l\u001b[?25hdone\n",
            "  Created wheel for pyforest: filename=pyforest-1.1.0-py2.py3-none-any.whl size=14608 sha256=383efb130a5008231a8552e57c6d440d1d92fd92cca23c6422cf777c1a29d5ac\n",
            "  Stored in directory: /root/.cache/pip/wheels/9e/7d/2c/5d2f5e62de376c386fd3bf5a8e5bd119ace6a9f48f49df6017\n",
            "Successfully built pyforest\n",
            "Installing collected packages: pyforest\n",
            "Successfully installed pyforest-1.1.0\n"
          ]
        }
      ],
      "source": [
        "!pip3 install pyforest"
      ]
    },
    {
      "cell_type": "code",
      "execution_count": null,
      "metadata": {
        "colab": {
          "base_uri": "https://localhost:8080/"
        },
        "id": "fec804a5",
        "outputId": "14154482-6cb2-4b03-9211-2393fb33ae98"
      },
      "outputs": [
        {
          "output_type": "stream",
          "name": "stdout",
          "text": [
            "Requirement already satisfied: plotly in /usr/local/lib/python3.10/dist-packages (5.15.0)\n",
            "Requirement already satisfied: tenacity>=6.2.0 in /usr/local/lib/python3.10/dist-packages (from plotly) (8.2.3)\n",
            "Requirement already satisfied: packaging in /usr/local/lib/python3.10/dist-packages (from plotly) (23.1)\n"
          ]
        }
      ],
      "source": [
        "!pip install plotly"
      ]
    },
    {
      "cell_type": "code",
      "execution_count": null,
      "metadata": {
        "colab": {
          "base_uri": "https://localhost:8080/"
        },
        "id": "r1lNqMqLyug1",
        "outputId": "011707f1-d31b-47f7-cd96-960ea6c4607f"
      },
      "outputs": [
        {
          "output_type": "stream",
          "name": "stdout",
          "text": [
            "Requirement already satisfied: scikit-learn in /usr/local/lib/python3.10/dist-packages (1.2.2)\n",
            "Collecting scikit-learn\n",
            "  Downloading scikit_learn-1.3.0-cp310-cp310-manylinux_2_17_x86_64.manylinux2014_x86_64.whl (10.8 MB)\n",
            "\u001b[2K     \u001b[90m━━━━━━━━━━━━━━━━━━━━━━━━━━━━━━━━━━━━━━━━\u001b[0m \u001b[32m10.8/10.8 MB\u001b[0m \u001b[31m22.2 MB/s\u001b[0m eta \u001b[36m0:00:00\u001b[0m\n",
            "\u001b[?25hRequirement already satisfied: numpy>=1.17.3 in /usr/local/lib/python3.10/dist-packages (from scikit-learn) (1.23.5)\n",
            "Requirement already satisfied: scipy>=1.5.0 in /usr/local/lib/python3.10/dist-packages (from scikit-learn) (1.10.1)\n",
            "Requirement already satisfied: joblib>=1.1.1 in /usr/local/lib/python3.10/dist-packages (from scikit-learn) (1.3.2)\n",
            "Requirement already satisfied: threadpoolctl>=2.0.0 in /usr/local/lib/python3.10/dist-packages (from scikit-learn) (3.2.0)\n",
            "Installing collected packages: scikit-learn\n",
            "  Attempting uninstall: scikit-learn\n",
            "    Found existing installation: scikit-learn 1.2.2\n",
            "    Uninstalling scikit-learn-1.2.2:\n",
            "      Successfully uninstalled scikit-learn-1.2.2\n",
            "Successfully installed scikit-learn-1.3.0\n"
          ]
        }
      ],
      "source": [
        "pip install --upgrade scikit-learn"
      ]
    },
    {
      "cell_type": "code",
      "execution_count": null,
      "metadata": {
        "colab": {
          "base_uri": "https://localhost:8080/",
          "height": 1000
        },
        "collapsed": true,
        "id": "93116778",
        "outputId": "9d237406-6a98-4f41-cab9-1335733e848f"
      },
      "outputs": [
        {
          "output_type": "stream",
          "name": "stdout",
          "text": [
            "Requirement already satisfied: cufflinks in /usr/local/lib/python3.10/dist-packages (0.17.3)\n",
            "Requirement already satisfied: numpy>=1.9.2 in /usr/local/lib/python3.10/dist-packages (from cufflinks) (1.23.5)\n",
            "Requirement already satisfied: pandas>=0.19.2 in /usr/local/lib/python3.10/dist-packages (from cufflinks) (1.5.3)\n",
            "Requirement already satisfied: plotly>=4.1.1 in /usr/local/lib/python3.10/dist-packages (from cufflinks) (5.15.0)\n",
            "Requirement already satisfied: six>=1.9.0 in /usr/local/lib/python3.10/dist-packages (from cufflinks) (1.16.0)\n",
            "Requirement already satisfied: colorlover>=0.2.1 in /usr/local/lib/python3.10/dist-packages (from cufflinks) (0.3.0)\n",
            "Requirement already satisfied: setuptools>=34.4.1 in /usr/local/lib/python3.10/dist-packages (from cufflinks) (67.7.2)\n",
            "Requirement already satisfied: ipython>=5.3.0 in /usr/local/lib/python3.10/dist-packages (from cufflinks) (7.34.0)\n",
            "Requirement already satisfied: ipywidgets>=7.0.0 in /usr/local/lib/python3.10/dist-packages (from cufflinks) (7.7.1)\n",
            "Collecting jedi>=0.16 (from ipython>=5.3.0->cufflinks)\n",
            "  Downloading jedi-0.19.0-py2.py3-none-any.whl (1.6 MB)\n",
            "\u001b[2K     \u001b[90m━━━━━━━━━━━━━━━━━━━━━━━━━━━━━━━━━━━━━━━━\u001b[0m \u001b[32m1.6/1.6 MB\u001b[0m \u001b[31m7.6 MB/s\u001b[0m eta \u001b[36m0:00:00\u001b[0m\n",
            "\u001b[?25hRequirement already satisfied: decorator in /usr/local/lib/python3.10/dist-packages (from ipython>=5.3.0->cufflinks) (4.4.2)\n",
            "Requirement already satisfied: pickleshare in /usr/local/lib/python3.10/dist-packages (from ipython>=5.3.0->cufflinks) (0.7.5)\n",
            "Requirement already satisfied: traitlets>=4.2 in /usr/local/lib/python3.10/dist-packages (from ipython>=5.3.0->cufflinks) (5.7.1)\n",
            "Requirement already satisfied: prompt-toolkit!=3.0.0,!=3.0.1,<3.1.0,>=2.0.0 in /usr/local/lib/python3.10/dist-packages (from ipython>=5.3.0->cufflinks) (3.0.39)\n",
            "Requirement already satisfied: pygments in /usr/local/lib/python3.10/dist-packages (from ipython>=5.3.0->cufflinks) (2.16.1)\n",
            "Requirement already satisfied: backcall in /usr/local/lib/python3.10/dist-packages (from ipython>=5.3.0->cufflinks) (0.2.0)\n",
            "Requirement already satisfied: matplotlib-inline in /usr/local/lib/python3.10/dist-packages (from ipython>=5.3.0->cufflinks) (0.1.6)\n",
            "Requirement already satisfied: pexpect>4.3 in /usr/local/lib/python3.10/dist-packages (from ipython>=5.3.0->cufflinks) (4.8.0)\n",
            "Requirement already satisfied: ipykernel>=4.5.1 in /usr/local/lib/python3.10/dist-packages (from ipywidgets>=7.0.0->cufflinks) (5.5.6)\n",
            "Requirement already satisfied: ipython-genutils~=0.2.0 in /usr/local/lib/python3.10/dist-packages (from ipywidgets>=7.0.0->cufflinks) (0.2.0)\n",
            "Requirement already satisfied: widgetsnbextension~=3.6.0 in /usr/local/lib/python3.10/dist-packages (from ipywidgets>=7.0.0->cufflinks) (3.6.5)\n",
            "Requirement already satisfied: jupyterlab-widgets>=1.0.0 in /usr/local/lib/python3.10/dist-packages (from ipywidgets>=7.0.0->cufflinks) (3.0.8)\n",
            "Requirement already satisfied: python-dateutil>=2.8.1 in /usr/local/lib/python3.10/dist-packages (from pandas>=0.19.2->cufflinks) (2.8.2)\n",
            "Requirement already satisfied: pytz>=2020.1 in /usr/local/lib/python3.10/dist-packages (from pandas>=0.19.2->cufflinks) (2023.3)\n",
            "Requirement already satisfied: tenacity>=6.2.0 in /usr/local/lib/python3.10/dist-packages (from plotly>=4.1.1->cufflinks) (8.2.3)\n",
            "Requirement already satisfied: packaging in /usr/local/lib/python3.10/dist-packages (from plotly>=4.1.1->cufflinks) (23.1)\n",
            "Requirement already satisfied: jupyter-client in /usr/local/lib/python3.10/dist-packages (from ipykernel>=4.5.1->ipywidgets>=7.0.0->cufflinks) (6.1.12)\n",
            "Requirement already satisfied: tornado>=4.2 in /usr/local/lib/python3.10/dist-packages (from ipykernel>=4.5.1->ipywidgets>=7.0.0->cufflinks) (6.3.2)\n",
            "Requirement already satisfied: parso<0.9.0,>=0.8.3 in /usr/local/lib/python3.10/dist-packages (from jedi>=0.16->ipython>=5.3.0->cufflinks) (0.8.3)\n",
            "Requirement already satisfied: ptyprocess>=0.5 in /usr/local/lib/python3.10/dist-packages (from pexpect>4.3->ipython>=5.3.0->cufflinks) (0.7.0)\n",
            "Requirement already satisfied: wcwidth in /usr/local/lib/python3.10/dist-packages (from prompt-toolkit!=3.0.0,!=3.0.1,<3.1.0,>=2.0.0->ipython>=5.3.0->cufflinks) (0.2.6)\n",
            "Requirement already satisfied: notebook>=4.4.1 in /usr/local/lib/python3.10/dist-packages (from widgetsnbextension~=3.6.0->ipywidgets>=7.0.0->cufflinks) (6.5.5)\n",
            "Requirement already satisfied: jinja2 in /usr/local/lib/python3.10/dist-packages (from notebook>=4.4.1->widgetsnbextension~=3.6.0->ipywidgets>=7.0.0->cufflinks) (3.1.2)\n",
            "Requirement already satisfied: pyzmq<25,>=17 in /usr/local/lib/python3.10/dist-packages (from notebook>=4.4.1->widgetsnbextension~=3.6.0->ipywidgets>=7.0.0->cufflinks) (23.2.1)\n",
            "Requirement already satisfied: argon2-cffi in /usr/local/lib/python3.10/dist-packages (from notebook>=4.4.1->widgetsnbextension~=3.6.0->ipywidgets>=7.0.0->cufflinks) (23.1.0)\n",
            "Requirement already satisfied: jupyter-core>=4.6.1 in /usr/local/lib/python3.10/dist-packages (from notebook>=4.4.1->widgetsnbextension~=3.6.0->ipywidgets>=7.0.0->cufflinks) (5.3.1)\n",
            "Requirement already satisfied: nbformat in /usr/local/lib/python3.10/dist-packages (from notebook>=4.4.1->widgetsnbextension~=3.6.0->ipywidgets>=7.0.0->cufflinks) (5.9.2)\n",
            "Requirement already satisfied: nbconvert>=5 in /usr/local/lib/python3.10/dist-packages (from notebook>=4.4.1->widgetsnbextension~=3.6.0->ipywidgets>=7.0.0->cufflinks) (6.5.4)\n",
            "Requirement already satisfied: nest-asyncio>=1.5 in /usr/local/lib/python3.10/dist-packages (from notebook>=4.4.1->widgetsnbextension~=3.6.0->ipywidgets>=7.0.0->cufflinks) (1.5.7)\n",
            "Requirement already satisfied: Send2Trash>=1.8.0 in /usr/local/lib/python3.10/dist-packages (from notebook>=4.4.1->widgetsnbextension~=3.6.0->ipywidgets>=7.0.0->cufflinks) (1.8.2)\n",
            "Requirement already satisfied: terminado>=0.8.3 in /usr/local/lib/python3.10/dist-packages (from notebook>=4.4.1->widgetsnbextension~=3.6.0->ipywidgets>=7.0.0->cufflinks) (0.17.1)\n",
            "Requirement already satisfied: prometheus-client in /usr/local/lib/python3.10/dist-packages (from notebook>=4.4.1->widgetsnbextension~=3.6.0->ipywidgets>=7.0.0->cufflinks) (0.17.1)\n",
            "Requirement already satisfied: nbclassic>=0.4.7 in /usr/local/lib/python3.10/dist-packages (from notebook>=4.4.1->widgetsnbextension~=3.6.0->ipywidgets>=7.0.0->cufflinks) (1.0.0)\n",
            "Requirement already satisfied: platformdirs>=2.5 in /usr/local/lib/python3.10/dist-packages (from jupyter-core>=4.6.1->notebook>=4.4.1->widgetsnbextension~=3.6.0->ipywidgets>=7.0.0->cufflinks) (3.10.0)\n",
            "Requirement already satisfied: jupyter-server>=1.8 in /usr/local/lib/python3.10/dist-packages (from nbclassic>=0.4.7->notebook>=4.4.1->widgetsnbextension~=3.6.0->ipywidgets>=7.0.0->cufflinks) (1.24.0)\n",
            "Requirement already satisfied: notebook-shim>=0.2.3 in /usr/local/lib/python3.10/dist-packages (from nbclassic>=0.4.7->notebook>=4.4.1->widgetsnbextension~=3.6.0->ipywidgets>=7.0.0->cufflinks) (0.2.3)\n",
            "Requirement already satisfied: lxml in /usr/local/lib/python3.10/dist-packages (from nbconvert>=5->notebook>=4.4.1->widgetsnbextension~=3.6.0->ipywidgets>=7.0.0->cufflinks) (4.9.3)\n",
            "Requirement already satisfied: beautifulsoup4 in /usr/local/lib/python3.10/dist-packages (from nbconvert>=5->notebook>=4.4.1->widgetsnbextension~=3.6.0->ipywidgets>=7.0.0->cufflinks) (4.11.2)\n",
            "Requirement already satisfied: bleach in /usr/local/lib/python3.10/dist-packages (from nbconvert>=5->notebook>=4.4.1->widgetsnbextension~=3.6.0->ipywidgets>=7.0.0->cufflinks) (6.0.0)\n",
            "Requirement already satisfied: defusedxml in /usr/local/lib/python3.10/dist-packages (from nbconvert>=5->notebook>=4.4.1->widgetsnbextension~=3.6.0->ipywidgets>=7.0.0->cufflinks) (0.7.1)\n",
            "Requirement already satisfied: entrypoints>=0.2.2 in /usr/local/lib/python3.10/dist-packages (from nbconvert>=5->notebook>=4.4.1->widgetsnbextension~=3.6.0->ipywidgets>=7.0.0->cufflinks) (0.4)\n",
            "Requirement already satisfied: jupyterlab-pygments in /usr/local/lib/python3.10/dist-packages (from nbconvert>=5->notebook>=4.4.1->widgetsnbextension~=3.6.0->ipywidgets>=7.0.0->cufflinks) (0.2.2)\n",
            "Requirement already satisfied: MarkupSafe>=2.0 in /usr/local/lib/python3.10/dist-packages (from nbconvert>=5->notebook>=4.4.1->widgetsnbextension~=3.6.0->ipywidgets>=7.0.0->cufflinks) (2.1.3)\n",
            "Requirement already satisfied: mistune<2,>=0.8.1 in /usr/local/lib/python3.10/dist-packages (from nbconvert>=5->notebook>=4.4.1->widgetsnbextension~=3.6.0->ipywidgets>=7.0.0->cufflinks) (0.8.4)\n",
            "Requirement already satisfied: nbclient>=0.5.0 in /usr/local/lib/python3.10/dist-packages (from nbconvert>=5->notebook>=4.4.1->widgetsnbextension~=3.6.0->ipywidgets>=7.0.0->cufflinks) (0.8.0)\n",
            "Requirement already satisfied: pandocfilters>=1.4.1 in /usr/local/lib/python3.10/dist-packages (from nbconvert>=5->notebook>=4.4.1->widgetsnbextension~=3.6.0->ipywidgets>=7.0.0->cufflinks) (1.5.0)\n",
            "Requirement already satisfied: tinycss2 in /usr/local/lib/python3.10/dist-packages (from nbconvert>=5->notebook>=4.4.1->widgetsnbextension~=3.6.0->ipywidgets>=7.0.0->cufflinks) (1.2.1)\n",
            "Requirement already satisfied: fastjsonschema in /usr/local/lib/python3.10/dist-packages (from nbformat->notebook>=4.4.1->widgetsnbextension~=3.6.0->ipywidgets>=7.0.0->cufflinks) (2.18.0)\n",
            "Requirement already satisfied: jsonschema>=2.6 in /usr/local/lib/python3.10/dist-packages (from nbformat->notebook>=4.4.1->widgetsnbextension~=3.6.0->ipywidgets>=7.0.0->cufflinks) (4.19.0)\n",
            "Requirement already satisfied: argon2-cffi-bindings in /usr/local/lib/python3.10/dist-packages (from argon2-cffi->notebook>=4.4.1->widgetsnbextension~=3.6.0->ipywidgets>=7.0.0->cufflinks) (21.2.0)\n",
            "Requirement already satisfied: attrs>=22.2.0 in /usr/local/lib/python3.10/dist-packages (from jsonschema>=2.6->nbformat->notebook>=4.4.1->widgetsnbextension~=3.6.0->ipywidgets>=7.0.0->cufflinks) (23.1.0)\n",
            "Requirement already satisfied: jsonschema-specifications>=2023.03.6 in /usr/local/lib/python3.10/dist-packages (from jsonschema>=2.6->nbformat->notebook>=4.4.1->widgetsnbextension~=3.6.0->ipywidgets>=7.0.0->cufflinks) (2023.7.1)\n",
            "Requirement already satisfied: referencing>=0.28.4 in /usr/local/lib/python3.10/dist-packages (from jsonschema>=2.6->nbformat->notebook>=4.4.1->widgetsnbextension~=3.6.0->ipywidgets>=7.0.0->cufflinks) (0.30.2)\n",
            "Requirement already satisfied: rpds-py>=0.7.1 in /usr/local/lib/python3.10/dist-packages (from jsonschema>=2.6->nbformat->notebook>=4.4.1->widgetsnbextension~=3.6.0->ipywidgets>=7.0.0->cufflinks) (0.9.2)\n",
            "Requirement already satisfied: anyio<4,>=3.1.0 in /usr/local/lib/python3.10/dist-packages (from jupyter-server>=1.8->nbclassic>=0.4.7->notebook>=4.4.1->widgetsnbextension~=3.6.0->ipywidgets>=7.0.0->cufflinks) (3.7.1)\n",
            "Requirement already satisfied: websocket-client in /usr/local/lib/python3.10/dist-packages (from jupyter-server>=1.8->nbclassic>=0.4.7->notebook>=4.4.1->widgetsnbextension~=3.6.0->ipywidgets>=7.0.0->cufflinks) (1.6.1)\n",
            "Requirement already satisfied: cffi>=1.0.1 in /usr/local/lib/python3.10/dist-packages (from argon2-cffi-bindings->argon2-cffi->notebook>=4.4.1->widgetsnbextension~=3.6.0->ipywidgets>=7.0.0->cufflinks) (1.15.1)\n",
            "Requirement already satisfied: soupsieve>1.2 in /usr/local/lib/python3.10/dist-packages (from beautifulsoup4->nbconvert>=5->notebook>=4.4.1->widgetsnbextension~=3.6.0->ipywidgets>=7.0.0->cufflinks) (2.4.1)\n",
            "Requirement already satisfied: webencodings in /usr/local/lib/python3.10/dist-packages (from bleach->nbconvert>=5->notebook>=4.4.1->widgetsnbextension~=3.6.0->ipywidgets>=7.0.0->cufflinks) (0.5.1)\n",
            "Requirement already satisfied: idna>=2.8 in /usr/local/lib/python3.10/dist-packages (from anyio<4,>=3.1.0->jupyter-server>=1.8->nbclassic>=0.4.7->notebook>=4.4.1->widgetsnbextension~=3.6.0->ipywidgets>=7.0.0->cufflinks) (3.4)\n",
            "Requirement already satisfied: sniffio>=1.1 in /usr/local/lib/python3.10/dist-packages (from anyio<4,>=3.1.0->jupyter-server>=1.8->nbclassic>=0.4.7->notebook>=4.4.1->widgetsnbextension~=3.6.0->ipywidgets>=7.0.0->cufflinks) (1.3.0)\n",
            "Requirement already satisfied: exceptiongroup in /usr/local/lib/python3.10/dist-packages (from anyio<4,>=3.1.0->jupyter-server>=1.8->nbclassic>=0.4.7->notebook>=4.4.1->widgetsnbextension~=3.6.0->ipywidgets>=7.0.0->cufflinks) (1.1.3)\n",
            "Requirement already satisfied: pycparser in /usr/local/lib/python3.10/dist-packages (from cffi>=1.0.1->argon2-cffi-bindings->argon2-cffi->notebook>=4.4.1->widgetsnbextension~=3.6.0->ipywidgets>=7.0.0->cufflinks) (2.21)\n",
            "Installing collected packages: jedi\n",
            "Successfully installed jedi-0.19.0\n"
          ]
        },
        {
          "output_type": "display_data",
          "data": {
            "text/html": [
              "        <script type=\"text/javascript\">\n",
              "        window.PlotlyConfig = {MathJaxConfig: 'local'};\n",
              "        if (window.MathJax && window.MathJax.Hub && window.MathJax.Hub.Config) {window.MathJax.Hub.Config({SVG: {font: \"STIX-Web\"}});}\n",
              "        if (typeof require !== 'undefined') {\n",
              "        require.undef(\"plotly\");\n",
              "        requirejs.config({\n",
              "            paths: {\n",
              "                'plotly': ['https://cdn.plot.ly/plotly-2.24.1.min']\n",
              "            }\n",
              "        });\n",
              "        require(['plotly'], function(Plotly) {\n",
              "            window._Plotly = Plotly;\n",
              "        });\n",
              "        }\n",
              "        </script>\n",
              "        "
            ]
          },
          "metadata": {}
        },
        {
          "output_type": "stream",
          "name": "stdout",
          "text": [
            "Collecting colorama\n",
            "  Downloading colorama-0.4.6-py2.py3-none-any.whl (25 kB)\n",
            "Installing collected packages: colorama\n",
            "Successfully installed colorama-0.4.6\n",
            "Requirement already satisfied: termcolor in /usr/local/lib/python3.10/dist-packages (2.3.0)\n"
          ]
        }
      ],
      "source": [
        "import numpy as np\n",
        "import pandas as pd\n",
        "import matplotlib.pyplot as plt\n",
        "import seaborn as sns\n",
        "import plotly.express as px\n",
        "import scipy.stats as stats\n",
        "import pyforest\n",
        "from sklearn.preprocessing import StandardScaler, PolynomialFeatures, OneHotEncoder, StandardScaler, PowerTransformer, MinMaxScaler, LabelEncoder, RobustScaler\n",
        "from sklearn.model_selection import RepeatedStratifiedKFold, KFold, cross_val_predict, train_test_split, GridSearchCV, cross_val_score, cross_validate\n",
        "from sklearn.linear_model import LinearRegression, Lasso, Ridge,ElasticNet\n",
        "from sklearn.metrics import confusion_matrix, ConfusionMatrixDisplay, r2_score, mean_absolute_error, mean_squared_error, classification_report, confusion_matrix, accuracy_score, classification_report\n",
        "from sklearn.metrics import make_scorer, precision_score, precision_recall_curve, precision_recall_curve, RocCurveDisplay,  roc_auc_score, roc_curve, f1_score, accuracy_score, recall_score\n",
        "from sklearn.pipeline import make_pipeline\n",
        "from sklearn.compose import make_column_transformer\n",
        "from sklearn.neighbors import KNeighborsRegressor\n",
        "from sklearn.svm import SVR\n",
        "from sklearn.ensemble import RandomForestRegressor, RandomForestClassifier, AdaBoostClassifier\n",
        "from sklearn.feature_selection import SelectKBest, SelectPercentile, f_classif, f_regression, mutual_info_regression\n",
        "from sklearn.ensemble import GradientBoostingClassifier\n",
        "from xgboost import XGBRegressor, XGBClassifier\n",
        "from xgboost import plot_importance\n",
        "from sklearn.pipeline import Pipeline\n",
        "from sklearn.tree import plot_tree\n",
        "from sklearn.impute import SimpleImputer, KNNImputer\n",
        "from sklearn.model_selection import StratifiedKFold\n",
        "from sklearn.linear_model import LogisticRegression\n",
        "from sklearn.tree import DecisionTreeClassifier\n",
        "from sklearn.neighbors import KNeighborsClassifier\n",
        "from sklearn.discriminant_analysis import LinearDiscriminantAnalysis\n",
        "from sklearn.naive_bayes import GaussianNB\n",
        "from sklearn.svm import SVC\n",
        "\n",
        "#importing plotly and cufflinks in offline mode\n",
        "!pip install cufflinks\n",
        "import cufflinks as cf\n",
        "import plotly.offline\n",
        "cf.go_offline()\n",
        "cf.set_config_file(offline=False, world_readable=True)\n",
        "\n",
        "import warnings\n",
        "warnings.filterwarnings('ignore')\n",
        "warnings.warn(\"this will not show\")\n",
        "plt.rcParams[\"figure.figsize\"] = (10,6)\n",
        "pd.set_option('max_colwidth',200)\n",
        "\n",
        "# pd.set_option('display.max_rows', 100) # if you wish to see more rows rather than default, just uncomment this line.\n",
        "# pd.set_option('display.max_columns', 200)\n",
        "pd.set_option('display.float_format', lambda x: '%.3f' % x)\n",
        "\n",
        "!pip install colorama\n",
        "import colorama\n",
        "from colorama import Fore, Style  # maakes strings colored\n",
        "!pip3 install termcolor\n",
        "from termcolor import colored\n",
        "\n"
      ]
    },
    {
      "cell_type": "markdown",
      "metadata": {
        "id": "41aec467"
      },
      "source": [
        "<a id=\"1.1\"></a>\n",
        "<font color=\"purple\" size=+1.5><b>1.1 User Defined Functions</b></font>\n",
        "\n",
        "<a href=\"#toc\" class=\"btn btn-primary btn-sm\" role=\"button\" aria-pressed=\"true\" style=\"color:white\" data-toggle=\"popover\">Table of Contents</a>"
      ]
    },
    {
      "cell_type": "code",
      "execution_count": null,
      "metadata": {
        "id": "4594bf71"
      },
      "outputs": [],
      "source": [
        "# Function for determining the number and percentages of missing values\n",
        "\n",
        "def missing (df):\n",
        "    missing_number = df.isnull().sum().sort_values(ascending=False)\n",
        "    missing_percent = (df.isnull().sum()/df.isnull().count()).sort_values(ascending=False)\n",
        "    missing_values = pd.concat([missing_number, missing_percent], axis=1, keys=['Missing_Number', 'Missing_Percent'])\n",
        "    return missing_values"
      ]
    },
    {
      "cell_type": "code",
      "execution_count": null,
      "metadata": {
        "id": "a6d53320"
      },
      "outputs": [],
      "source": [
        "# Function for insighting summary information about the column\n",
        "\n",
        "def first_looking(col):\n",
        "    print(\"column name    : \", col)\n",
        "    print(\"--------------------------------\")\n",
        "    print(\"per_of_nulls   : \", \"%\", round(df[col].isnull().sum()/df.shape[0]*100, 2))\n",
        "    print(\"num_of_nulls   : \", df[col].isnull().sum())\n",
        "    print(\"num_of_uniques : \", df[col].nunique())\n",
        "    print(df[col].value_counts(dropna = False))"
      ]
    },
    {
      "cell_type": "code",
      "execution_count": null,
      "metadata": {
        "id": "a3946e3d"
      },
      "outputs": [],
      "source": [
        "# Function for examining scores\n",
        "\n",
        "def model_scorer(model, X_train, y_train, X_test, y_test):\n",
        "    y_train_pred = model.predict(X_train)\n",
        "    y_pred = model.predict(X_test)\n",
        "\n",
        "\n",
        "    scores = {\"train_set\": {\"Accuracy\" : accuracy_score(y_train, y_train_pred),\n",
        "                            \"Precision\" : precision_score(y_train, y_train_pred),\n",
        "                            \"Recall\" : recall_score(y_train, y_train_pred),\n",
        "                            \"f1\" : f1_score(y_train, y_train_pred)},\n",
        "\n",
        "              \"test_set\": {\"Accuracy\" : accuracy_score(y_test, y_pred),\n",
        "                           \"Precision\" : precision_score(y_test, y_pred),\n",
        "                           \"Recall\" : recall_score(y_test, y_pred),\n",
        "                           \"f1\" : f1_score(y_test, y_pred)}}\n",
        "\n",
        "    return pd.DataFrame(scores)"
      ]
    },
    {
      "cell_type": "markdown",
      "metadata": {
        "id": "88633662"
      },
      "source": [
        "<a id=\"2\"></a>\n",
        "<font color=\"purple\" size=+2.5><b>2) Data</b></font>\n",
        "\n",
        "<a href=\"#toc\" class=\"btn btn-primary btn-sm\" role=\"button\" aria-pressed=\"true\" style=\"color:white\" data-toggle=\"popover\">Table of Contents</a>"
      ]
    },
    {
      "cell_type": "markdown",
      "metadata": {
        "id": "88584dcb"
      },
      "source": [
        "<a id=\"2.1\"></a>\n",
        "<font color=\"purple\" size=+1.5><b>2.1 Context</b></font>\n",
        "\n",
        "<a href=\"#toc\" class=\"btn btn-primary btn-sm\" role=\"button\" aria-pressed=\"true\" style=\"color:white\" data-toggle=\"popover\">Table of Contents</a>\n",
        "\n"
      ]
    },
    {
      "cell_type": "markdown",
      "metadata": {
        "id": "xu82se5odHoC"
      },
      "source": [
        "Brain tumors are masses of abnormal cells in your brain. Your skull, which surrounds your brain, is a very hard and closed structure. Any growth within such a limited space can cause major problems. Brain tumors can be cancerous (malignant) or noncancerous (benign). When a benign tumor or malignant tumors grow, they can cause the pressure inside the skull to increase, resulting in brain damage that can be life-threatening.\n",
        "\n",
        "Brain tumors are categorized as primary or secondary. A primary brain tumor arises directly from cells in your brain. Most primary brain tumors are benign. A secondary brain tumor, also known as a metastatic brain tumor, occurs when a cancerous cell from another cancerous organ in your body metastasizes to your brain.\n",
        "\n",
        "Our data was created by collecting the results of 367 examinations from 251 people. Our data were collected to examine and analyze the factors affecting brain tumor."
      ]
    },
    {
      "cell_type": "markdown",
      "metadata": {
        "id": "7386d5d3"
      },
      "source": [
        "<a id=\"2.2\"></a>\n",
        "<font color=\"purple\" size=+1.5><b>2.2 About the Features</b></font>\n",
        "\n",
        "<a href=\"#toc\" class=\"btn btn-primary btn-sm\" role=\"button\" aria-pressed=\"true\" style=\"color:white\" data-toggle=\"popover\">Table of Contents</a>\n"
      ]
    },
    {
      "cell_type": "markdown",
      "metadata": {
        "id": "2YM0IkSFWENc"
      },
      "source": [
        "Unnamed: 0 = Although the data type is integer, it is an index column.\n",
        "\n",
        "Patient Id = It is the ID number of the patients undergoing the examination. Data type is object\n",
        "\n",
        "Age = It gives the ages of the patients. The data type is integer.\n",
        "\n",
        "Gender = It gives the gender information of the patients. The data type is integer. 0 women, 1 men\n",
        "\n",
        "Genetic Risk = It indicates the genetic risk of the patient. Our data is of integer type. Our values are in ordinal format.\n",
        "\n",
        "Occupational Hazards = It shows the risk of tumor formation of the occupation that the patient is doing. Our data is of integer type. Our values are in ordinal format.\n",
        "\n",
        "Headache = Indicates the severity of the patient's headache. Our data is of integer type. Our values are in ordinal format.\n",
        "\n",
        "Seizure Rate = Shows the rate of seizures the patient has had. Our data is of integer type. Our values are in ordinal format.\n",
        "\n",
        "Convulsion Rate = It indicates the rate at which neurons decay and become dysfunctional. Our data is of integer type. Our values are in ordinal format.\n",
        "\n",
        "Blurred Vision = It shows the blurred vision rate of the patient. Our data is of integer type. Our values are in ordinal format.\n",
        "\n",
        "Double Vision = Indicates the patient's double vision. Our data is of integer type. Our values are in ordinal format.\n",
        "\n",
        "Peripheral Vision Loss = It indicates the rate of peripheral vision loss of the patient. Our data is of integer type. Our values are in ordinal format.\n",
        "\n",
        "Loss of Smell = It shows the rate of loss of smell of the patient. Our data is of integer type. Our values are in ordinal format.\n",
        "\n",
        "Balance Disorder = Indicates the rate of loss of balance of the patient. Our data is of integer type. Our values are in ordinal format.\n",
        "\n",
        "Nausea = It indicates the frequency of nausea of the patient. Our data is of integer type. Our values are in ordinal format.\n",
        "\n",
        "Vomiting = Indicates the frequency of vomiting of the patient. Our data is of integer type. Our values are in ordinal format.\n",
        "\n",
        "Rate of Memory Lapses = Indicates the patient's memory loss rate.  Our data is of integer type. Our values are in ordinal format.\n",
        "\n",
        "Drowsiness = Indicates the patient's rate of drowsiness.  Our data is of integer type. Our values are in ordinal format.\n",
        "\n",
        "Personality disorder = It indicates the rate of personality disorder of the patient. Our data is of integer type. Our values are in ordinal format.\n",
        "\n",
        "Numbness in arms = It shows the rate of numbness in the patient's arms. Our data is of integer type. Our values are in ordinal format.\n",
        "\n",
        "Numbness in legs = It shows the rate of numbness in the legs of the patient. Our data is of integer type. Our values are in ordinal format.\n",
        "\n",
        "Syncope Rate = Indicates the rate of fainting of the patient.Our data is of integer type. Our values are in ordinal format.\n",
        "\n",
        "C-Risk Level = It indicates the patient's risk of having a malignant tumor. \"0\" is benign tumor, \"1\" is malignant tumor"
      ]
    },
    {
      "cell_type": "markdown",
      "metadata": {
        "id": "14854b8c"
      },
      "source": [
        "<a id=\"2.3\"></a>\n",
        "<font color=\"purple\" size=+1.5><b>2.3 What the Problem is</b></font>\n",
        "\n",
        "<a href=\"#toc\" class=\"btn btn-primary btn-sm\" role=\"button\" aria-pressed=\"true\" style=\"color:white\" data-toggle=\"popover\">Table of Contents</a>\n",
        "\n"
      ]
    },
    {
      "cell_type": "markdown",
      "metadata": {
        "id": "op08sR4r_o2Z"
      },
      "source": [
        "- This project is about a binary classification problem.\n",
        "- We will make a prection on the target variable Brain Tumor\n",
        "- Finaly we will build a variety of 8 ML Classification models\n",
        "- Each model will compare the models giving the best prediction on Brain Tumor."
      ]
    },
    {
      "cell_type": "markdown",
      "metadata": {
        "id": "3acf643e"
      },
      "source": [
        "<a id=\"2.4\"></a>\n",
        "<font color=\"purple\" size=+1.5><b>2.4 Target Variable</b></font>\n",
        "\n",
        "<a href=\"#toc\" class=\"btn btn-primary btn-sm\" role=\"button\" aria-pressed=\"true\" style=\"color:white\" data-toggle=\"popover\">Table of Contents</a>\n"
      ]
    },
    {
      "cell_type": "markdown",
      "metadata": {
        "id": "ogb2AByDDsnm"
      },
      "source": [
        "In machine learning models important thing the featues is ylour variable or your output. After determination of this, your further work would be determination to type of your output. For example it could be binary 0 or 1 if you are classifying or it could be a continuous variable if you are doing a regression. In statistics you also refer to it as the response variable.\n",
        "\n",
        "The target column of our data is column \"C-Risk Level\". Because, as we mentioned in our problem, we will try to guess whether the tumor in the brain is malignant or not."
      ]
    },
    {
      "cell_type": "markdown",
      "metadata": {
        "id": "b242510e"
      },
      "source": [
        "<a id=\"3\"></a>\n",
        "<font color=\"purple\" size=+2.5><b>3) ANALYSIS</b></font>\n",
        "\n",
        "<a href=\"#toc\" class=\"btn btn-primary btn-sm\" role=\"button\" aria-pressed=\"true\" style=\"color:white\" data-toggle=\"popover\">Table of Contents</a>"
      ]
    },
    {
      "cell_type": "markdown",
      "metadata": {
        "id": "c4d8e008"
      },
      "source": [
        "<a id=\"3.1\"></a>\n",
        "<font color=\"purple\" size=+1.5><b>3.1 Reading the Data</b></font>\n",
        "\n",
        "<a href=\"#toc\" class=\"btn btn-primary btn-sm\" role=\"button\" aria-pressed=\"true\" style=\"color:white\" data-toggle=\"popover\">Table of Contents</a>\n",
        "\n"
      ]
    },
    {
      "cell_type": "code",
      "execution_count": null,
      "metadata": {
        "id": "074d29d3",
        "outputId": "7ec367cd-6650-427a-c538-1fa89ac1f0bb",
        "colab": {
          "base_uri": "https://localhost:8080/",
          "height": 338
        }
      },
      "outputs": [
        {
          "output_type": "error",
          "ename": "FileNotFoundError",
          "evalue": "ignored",
          "traceback": [
            "\u001b[0;31m---------------------------------------------------------------------------\u001b[0m",
            "\u001b[0;31mFileNotFoundError\u001b[0m                         Traceback (most recent call last)",
            "\u001b[0;32m/usr/local/lib/python3.10/dist-packages/pyforest/__init__.py\u001b[0m in \u001b[0;36m<cell line: 1>\u001b[0;34m()\u001b[0m\n\u001b[0;32m----> 1\u001b[0;31m \u001b[0mdf0\u001b[0m \u001b[0;34m=\u001b[0m \u001b[0mpd\u001b[0m\u001b[0;34m.\u001b[0m\u001b[0mread_csv\u001b[0m\u001b[0;34m(\u001b[0m\u001b[0;34m'/content/drive/MyDrive/risk.csv/risk_of_brain_tumor (1).csv'\u001b[0m\u001b[0;34m)\u001b[0m\u001b[0;34m\u001b[0m\u001b[0;34m\u001b[0m\u001b[0m\n\u001b[0m",
            "\u001b[0;32m/usr/local/lib/python3.10/dist-packages/pandas/util/_decorators.py\u001b[0m in \u001b[0;36mwrapper\u001b[0;34m(*args, **kwargs)\u001b[0m\n\u001b[1;32m    209\u001b[0m                 \u001b[0;32melse\u001b[0m\u001b[0;34m:\u001b[0m\u001b[0;34m\u001b[0m\u001b[0;34m\u001b[0m\u001b[0m\n\u001b[1;32m    210\u001b[0m                     \u001b[0mkwargs\u001b[0m\u001b[0;34m[\u001b[0m\u001b[0mnew_arg_name\u001b[0m\u001b[0;34m]\u001b[0m \u001b[0;34m=\u001b[0m \u001b[0mnew_arg_value\u001b[0m\u001b[0;34m\u001b[0m\u001b[0;34m\u001b[0m\u001b[0m\n\u001b[0;32m--> 211\u001b[0;31m             \u001b[0;32mreturn\u001b[0m \u001b[0mfunc\u001b[0m\u001b[0;34m(\u001b[0m\u001b[0;34m*\u001b[0m\u001b[0margs\u001b[0m\u001b[0;34m,\u001b[0m \u001b[0;34m**\u001b[0m\u001b[0mkwargs\u001b[0m\u001b[0;34m)\u001b[0m\u001b[0;34m\u001b[0m\u001b[0;34m\u001b[0m\u001b[0m\n\u001b[0m\u001b[1;32m    212\u001b[0m \u001b[0;34m\u001b[0m\u001b[0m\n\u001b[1;32m    213\u001b[0m         \u001b[0;32mreturn\u001b[0m \u001b[0mcast\u001b[0m\u001b[0;34m(\u001b[0m\u001b[0mF\u001b[0m\u001b[0;34m,\u001b[0m \u001b[0mwrapper\u001b[0m\u001b[0;34m)\u001b[0m\u001b[0;34m\u001b[0m\u001b[0;34m\u001b[0m\u001b[0m\n",
            "\u001b[0;32m/usr/local/lib/python3.10/dist-packages/pandas/util/_decorators.py\u001b[0m in \u001b[0;36mwrapper\u001b[0;34m(*args, **kwargs)\u001b[0m\n\u001b[1;32m    329\u001b[0m                     \u001b[0mstacklevel\u001b[0m\u001b[0;34m=\u001b[0m\u001b[0mfind_stack_level\u001b[0m\u001b[0;34m(\u001b[0m\u001b[0;34m)\u001b[0m\u001b[0;34m,\u001b[0m\u001b[0;34m\u001b[0m\u001b[0;34m\u001b[0m\u001b[0m\n\u001b[1;32m    330\u001b[0m                 )\n\u001b[0;32m--> 331\u001b[0;31m             \u001b[0;32mreturn\u001b[0m \u001b[0mfunc\u001b[0m\u001b[0;34m(\u001b[0m\u001b[0;34m*\u001b[0m\u001b[0margs\u001b[0m\u001b[0;34m,\u001b[0m \u001b[0;34m**\u001b[0m\u001b[0mkwargs\u001b[0m\u001b[0;34m)\u001b[0m\u001b[0;34m\u001b[0m\u001b[0;34m\u001b[0m\u001b[0m\n\u001b[0m\u001b[1;32m    332\u001b[0m \u001b[0;34m\u001b[0m\u001b[0m\n\u001b[1;32m    333\u001b[0m         \u001b[0;31m# error: \"Callable[[VarArg(Any), KwArg(Any)], Any]\" has no\u001b[0m\u001b[0;34m\u001b[0m\u001b[0;34m\u001b[0m\u001b[0m\n",
            "\u001b[0;32m/usr/local/lib/python3.10/dist-packages/pandas/io/parsers/readers.py\u001b[0m in \u001b[0;36mread_csv\u001b[0;34m(filepath_or_buffer, sep, delimiter, header, names, index_col, usecols, squeeze, prefix, mangle_dupe_cols, dtype, engine, converters, true_values, false_values, skipinitialspace, skiprows, skipfooter, nrows, na_values, keep_default_na, na_filter, verbose, skip_blank_lines, parse_dates, infer_datetime_format, keep_date_col, date_parser, dayfirst, cache_dates, iterator, chunksize, compression, thousands, decimal, lineterminator, quotechar, quoting, doublequote, escapechar, comment, encoding, encoding_errors, dialect, error_bad_lines, warn_bad_lines, on_bad_lines, delim_whitespace, low_memory, memory_map, float_precision, storage_options)\u001b[0m\n\u001b[1;32m    948\u001b[0m     \u001b[0mkwds\u001b[0m\u001b[0;34m.\u001b[0m\u001b[0mupdate\u001b[0m\u001b[0;34m(\u001b[0m\u001b[0mkwds_defaults\u001b[0m\u001b[0;34m)\u001b[0m\u001b[0;34m\u001b[0m\u001b[0;34m\u001b[0m\u001b[0m\n\u001b[1;32m    949\u001b[0m \u001b[0;34m\u001b[0m\u001b[0m\n\u001b[0;32m--> 950\u001b[0;31m     \u001b[0;32mreturn\u001b[0m \u001b[0m_read\u001b[0m\u001b[0;34m(\u001b[0m\u001b[0mfilepath_or_buffer\u001b[0m\u001b[0;34m,\u001b[0m \u001b[0mkwds\u001b[0m\u001b[0;34m)\u001b[0m\u001b[0;34m\u001b[0m\u001b[0;34m\u001b[0m\u001b[0m\n\u001b[0m\u001b[1;32m    951\u001b[0m \u001b[0;34m\u001b[0m\u001b[0m\n\u001b[1;32m    952\u001b[0m \u001b[0;34m\u001b[0m\u001b[0m\n",
            "\u001b[0;32m/usr/local/lib/python3.10/dist-packages/pandas/io/parsers/readers.py\u001b[0m in \u001b[0;36m_read\u001b[0;34m(filepath_or_buffer, kwds)\u001b[0m\n\u001b[1;32m    603\u001b[0m \u001b[0;34m\u001b[0m\u001b[0m\n\u001b[1;32m    604\u001b[0m     \u001b[0;31m# Create the parser.\u001b[0m\u001b[0;34m\u001b[0m\u001b[0;34m\u001b[0m\u001b[0m\n\u001b[0;32m--> 605\u001b[0;31m     \u001b[0mparser\u001b[0m \u001b[0;34m=\u001b[0m \u001b[0mTextFileReader\u001b[0m\u001b[0;34m(\u001b[0m\u001b[0mfilepath_or_buffer\u001b[0m\u001b[0;34m,\u001b[0m \u001b[0;34m**\u001b[0m\u001b[0mkwds\u001b[0m\u001b[0;34m)\u001b[0m\u001b[0;34m\u001b[0m\u001b[0;34m\u001b[0m\u001b[0m\n\u001b[0m\u001b[1;32m    606\u001b[0m \u001b[0;34m\u001b[0m\u001b[0m\n\u001b[1;32m    607\u001b[0m     \u001b[0;32mif\u001b[0m \u001b[0mchunksize\u001b[0m \u001b[0;32mor\u001b[0m \u001b[0miterator\u001b[0m\u001b[0;34m:\u001b[0m\u001b[0;34m\u001b[0m\u001b[0;34m\u001b[0m\u001b[0m\n",
            "\u001b[0;32m/usr/local/lib/python3.10/dist-packages/pandas/io/parsers/readers.py\u001b[0m in \u001b[0;36m__init__\u001b[0;34m(self, f, engine, **kwds)\u001b[0m\n\u001b[1;32m   1440\u001b[0m \u001b[0;34m\u001b[0m\u001b[0m\n\u001b[1;32m   1441\u001b[0m         \u001b[0mself\u001b[0m\u001b[0;34m.\u001b[0m\u001b[0mhandles\u001b[0m\u001b[0;34m:\u001b[0m \u001b[0mIOHandles\u001b[0m \u001b[0;34m|\u001b[0m \u001b[0;32mNone\u001b[0m \u001b[0;34m=\u001b[0m \u001b[0;32mNone\u001b[0m\u001b[0;34m\u001b[0m\u001b[0;34m\u001b[0m\u001b[0m\n\u001b[0;32m-> 1442\u001b[0;31m         \u001b[0mself\u001b[0m\u001b[0;34m.\u001b[0m\u001b[0m_engine\u001b[0m \u001b[0;34m=\u001b[0m \u001b[0mself\u001b[0m\u001b[0;34m.\u001b[0m\u001b[0m_make_engine\u001b[0m\u001b[0;34m(\u001b[0m\u001b[0mf\u001b[0m\u001b[0;34m,\u001b[0m \u001b[0mself\u001b[0m\u001b[0;34m.\u001b[0m\u001b[0mengine\u001b[0m\u001b[0;34m)\u001b[0m\u001b[0;34m\u001b[0m\u001b[0;34m\u001b[0m\u001b[0m\n\u001b[0m\u001b[1;32m   1443\u001b[0m \u001b[0;34m\u001b[0m\u001b[0m\n\u001b[1;32m   1444\u001b[0m     \u001b[0;32mdef\u001b[0m \u001b[0mclose\u001b[0m\u001b[0;34m(\u001b[0m\u001b[0mself\u001b[0m\u001b[0;34m)\u001b[0m \u001b[0;34m->\u001b[0m \u001b[0;32mNone\u001b[0m\u001b[0;34m:\u001b[0m\u001b[0;34m\u001b[0m\u001b[0;34m\u001b[0m\u001b[0m\n",
            "\u001b[0;32m/usr/local/lib/python3.10/dist-packages/pandas/io/parsers/readers.py\u001b[0m in \u001b[0;36m_make_engine\u001b[0;34m(self, f, engine)\u001b[0m\n\u001b[1;32m   1733\u001b[0m                 \u001b[0;32mif\u001b[0m \u001b[0;34m\"b\"\u001b[0m \u001b[0;32mnot\u001b[0m \u001b[0;32min\u001b[0m \u001b[0mmode\u001b[0m\u001b[0;34m:\u001b[0m\u001b[0;34m\u001b[0m\u001b[0;34m\u001b[0m\u001b[0m\n\u001b[1;32m   1734\u001b[0m                     \u001b[0mmode\u001b[0m \u001b[0;34m+=\u001b[0m \u001b[0;34m\"b\"\u001b[0m\u001b[0;34m\u001b[0m\u001b[0;34m\u001b[0m\u001b[0m\n\u001b[0;32m-> 1735\u001b[0;31m             self.handles = get_handle(\n\u001b[0m\u001b[1;32m   1736\u001b[0m                 \u001b[0mf\u001b[0m\u001b[0;34m,\u001b[0m\u001b[0;34m\u001b[0m\u001b[0;34m\u001b[0m\u001b[0m\n\u001b[1;32m   1737\u001b[0m                 \u001b[0mmode\u001b[0m\u001b[0;34m,\u001b[0m\u001b[0;34m\u001b[0m\u001b[0;34m\u001b[0m\u001b[0m\n",
            "\u001b[0;32m/usr/local/lib/python3.10/dist-packages/pandas/io/common.py\u001b[0m in \u001b[0;36mget_handle\u001b[0;34m(path_or_buf, mode, encoding, compression, memory_map, is_text, errors, storage_options)\u001b[0m\n\u001b[1;32m    854\u001b[0m         \u001b[0;32mif\u001b[0m \u001b[0mioargs\u001b[0m\u001b[0;34m.\u001b[0m\u001b[0mencoding\u001b[0m \u001b[0;32mand\u001b[0m \u001b[0;34m\"b\"\u001b[0m \u001b[0;32mnot\u001b[0m \u001b[0;32min\u001b[0m \u001b[0mioargs\u001b[0m\u001b[0;34m.\u001b[0m\u001b[0mmode\u001b[0m\u001b[0;34m:\u001b[0m\u001b[0;34m\u001b[0m\u001b[0;34m\u001b[0m\u001b[0m\n\u001b[1;32m    855\u001b[0m             \u001b[0;31m# Encoding\u001b[0m\u001b[0;34m\u001b[0m\u001b[0;34m\u001b[0m\u001b[0m\n\u001b[0;32m--> 856\u001b[0;31m             handle = open(\n\u001b[0m\u001b[1;32m    857\u001b[0m                 \u001b[0mhandle\u001b[0m\u001b[0;34m,\u001b[0m\u001b[0;34m\u001b[0m\u001b[0;34m\u001b[0m\u001b[0m\n\u001b[1;32m    858\u001b[0m                 \u001b[0mioargs\u001b[0m\u001b[0;34m.\u001b[0m\u001b[0mmode\u001b[0m\u001b[0;34m,\u001b[0m\u001b[0;34m\u001b[0m\u001b[0;34m\u001b[0m\u001b[0m\n",
            "\u001b[0;31mFileNotFoundError\u001b[0m: [Errno 2] No such file or directory: '/content/drive/MyDrive/risk.csv/risk_of_brain_tumor (1).csv'"
          ]
        }
      ],
      "source": [
        "df0 = pd.read_csv('/content/drive/MyDrive/risk.csv/risk_of_brain_tumor (1).csv')"
      ]
    },
    {
      "cell_type": "code",
      "source": [
        "from google.colab import drive\n",
        "drive.mount('/content/drive')"
      ],
      "metadata": {
        "colab": {
          "base_uri": "https://localhost:8080/"
        },
        "id": "RDBeqsv9URk5",
        "outputId": "ba9d1f61-88ed-412e-c560-8cae54a87538"
      },
      "execution_count": null,
      "outputs": [
        {
          "output_type": "stream",
          "name": "stdout",
          "text": [
            "Mounted at /content/drive\n"
          ]
        }
      ]
    },
    {
      "cell_type": "code",
      "execution_count": null,
      "metadata": {
        "id": "1143c740"
      },
      "outputs": [],
      "source": [
        "df0.shape"
      ]
    },
    {
      "cell_type": "code",
      "execution_count": null,
      "metadata": {
        "id": "094ca8c1"
      },
      "outputs": [],
      "source": [
        "df = df0"
      ]
    },
    {
      "cell_type": "code",
      "execution_count": null,
      "metadata": {
        "id": "7fab0438"
      },
      "outputs": [],
      "source": [
        "df"
      ]
    },
    {
      "cell_type": "markdown",
      "metadata": {
        "id": "246f5022"
      },
      "source": [
        "<a id=\"4\"></a>\n",
        "<font color=\"purple\" size=+2.5><b>4) EXPLORATORY DATA ANALYSIS (EDA) & VISUALIZATION</b></font>\n",
        "\n",
        "<a href=\"#toc\" class=\"btn btn-primary btn-sm\" role=\"button\" aria-pressed=\"true\" style=\"color:white\" data-toggle=\"popover\">Table of Contents</a>"
      ]
    },
    {
      "cell_type": "markdown",
      "metadata": {
        "id": "fabdd1ec"
      },
      "source": [
        "<a id=\"4.1\"></a>\n",
        "<font color=\"purple\" size=+1.5><b>4.1 - A General Looking at the Data</b></font>\n",
        "\n",
        "<a href=\"#toc\" class=\"btn btn-primary btn-sm\" role=\"button\" aria-pressed=\"true\" style=\"color:white\" data-toggle=\"popover\">Table of Contents</a>"
      ]
    },
    {
      "cell_type": "code",
      "execution_count": null,
      "metadata": {
        "id": "cea0e1de"
      },
      "outputs": [],
      "source": [
        "df.head()"
      ]
    },
    {
      "cell_type": "code",
      "execution_count": null,
      "metadata": {
        "id": "45d66c5c"
      },
      "outputs": [],
      "source": [
        "df.tail()"
      ]
    },
    {
      "cell_type": "code",
      "execution_count": null,
      "metadata": {
        "id": "25f368b5"
      },
      "outputs": [],
      "source": [
        "#df.sample(10)"
      ]
    },
    {
      "cell_type": "code",
      "source": [
        "#sample_size = 10\n",
        "\n",
        "# Check if the DataFrame has enough rows for the desired sample size\n",
        "#if len(df) >= sample_size:\n",
        " #   sampled_data = df.sample(sample_size)\n",
        "#else:\n",
        "#    print(\"DataFrame doesn't have enough rows for the desired sample size.\")\n"
      ],
      "metadata": {
        "id": "JgVkwoIPL4z1"
      },
      "execution_count": null,
      "outputs": []
    },
    {
      "cell_type": "markdown",
      "metadata": {
        "id": "bfdc3007"
      },
      "source": [
        "\n",
        "-- 'Unnamed: 0', 'Patient Id'"
      ]
    },
    {
      "cell_type": "code",
      "execution_count": null,
      "metadata": {
        "id": "15f55bd8"
      },
      "outputs": [],
      "source": [
        "df.columns"
      ]
    },
    {
      "cell_type": "code",
      "execution_count": null,
      "metadata": {
        "id": "68310a6b"
      },
      "outputs": [],
      "source": [
        "print(\"There is\", df.shape[0], \"observation and\", df.shape[1], \"columns in the dataset\")"
      ]
    },
    {
      "cell_type": "code",
      "execution_count": null,
      "metadata": {
        "id": "0bd84d3e"
      },
      "outputs": [],
      "source": [
        "df.info()"
      ]
    },
    {
      "cell_type": "code",
      "execution_count": null,
      "metadata": {
        "id": "ae53dfb2"
      },
      "outputs": [],
      "source": [
        "df.describe().T"
      ]
    },
    {
      "cell_type": "code",
      "execution_count": null,
      "metadata": {
        "id": "5adf6e15"
      },
      "outputs": [],
      "source": [
        "df.nunique()"
      ]
    },
    {
      "cell_type": "code",
      "execution_count": null,
      "metadata": {
        "id": "92e37b76"
      },
      "outputs": [],
      "source": [
        "\n",
        "\n",
        "for col in df.select_dtypes(include=[np.number]).columns:\n",
        "  print(f\"{col} has {df[col].nunique()} unique value\")"
      ]
    },
    {
      "cell_type": "code",
      "execution_count": null,
      "metadata": {
        "id": "7b73e506"
      },
      "outputs": [],
      "source": [
        "df.duplicated().value_counts()"
      ]
    },
    {
      "cell_type": "markdown",
      "metadata": {
        "id": "ShS9z8SvXPkW"
      },
      "source": [
        "<a id=\"4.1.1\"></a>\n",
        "<font color=\"purple\" size=+1.5><b>4.1.1 - Handling With Missing Values</b></font>\n",
        "\n",
        "<a href=\"#toc\" class=\"btn btn-primary btn-sm\" role=\"button\" aria-pressed=\"true\" style=\"color:white\" data-toggle=\"popover\">Table of Contents</a>"
      ]
    },
    {
      "cell_type": "code",
      "execution_count": null,
      "metadata": {
        "id": "91b66837"
      },
      "outputs": [],
      "source": [
        "missing (df)"
      ]
    },
    {
      "cell_type": "code",
      "execution_count": null,
      "metadata": {
        "id": "350fea3b"
      },
      "outputs": [],
      "source": [
        "#df.drop([\"Unnamed: 0\",\"Patient Id\"],axis=1,inplace= True)"
      ]
    },
    {
      "cell_type": "code",
      "source": [
        "columns_to_drop = [\"Unnamed: 0\", \"Patient Id\"]\n",
        "columns_exist = all(col in df.columns for col in columns_to_drop)\n",
        "\n",
        "if columns_exist:\n",
        "    df.drop(columns_to_drop, axis=1, inplace=True)\n",
        "else:\n",
        "    print(\"One or more columns to drop were not found in the DataFrame.\")"
      ],
      "metadata": {
        "id": "U6GMycJAOEHk"
      },
      "execution_count": null,
      "outputs": []
    },
    {
      "cell_type": "markdown",
      "metadata": {
        "id": "d1193877"
      },
      "source": [
        "<a id=\"4.2\"></a>\n",
        "<font color=\"purple\" size=+1.5><b>4.2 - The Examination of Target Variable</b></font>\n",
        "\n",
        "<a href=\"#toc\" class=\"btn btn-primary btn-sm\" role=\"button\" aria-pressed=\"true\" style=\"color:white\" data-toggle=\"popover\">Table of Contents</a>"
      ]
    },
    {
      "cell_type": "code",
      "execution_count": null,
      "metadata": {
        "id": "cba19261"
      },
      "outputs": [],
      "source": [
        "#first_looking(\"C-Risk Level\")\n",
        "#data is balanced."
      ]
    },
    {
      "cell_type": "code",
      "source": [
        "column_name = \"C-Risk Level\"\n",
        "\n",
        "if column_name in df.columns:\n",
        "    # Perform the desired operation on the column\n",
        "    result = df[column_name].describe()  # For example, getting summary statistics\n",
        "    print(result)\n",
        "else:\n",
        "    print(f\"Column '{column_name}' not found in the DataFrame.\")"
      ],
      "metadata": {
        "id": "BNaWvHj0OdDv"
      },
      "execution_count": null,
      "outputs": []
    },
    {
      "cell_type": "code",
      "execution_count": null,
      "metadata": {
        "id": "04f410a4"
      },
      "outputs": [],
      "source": [
        "# print(df[\"C-Risk Level\"].value_counts())\n",
        "# df[\"C-Risk Level\"].value_counts().plot(kind=\"pie\", autopct='%1.1f%%', figsize=(10,10));"
      ]
    },
    {
      "cell_type": "code",
      "source": [
        "# Replace this with your actual DataFrame\n",
        "data = {'C-Risk Level': ['High', 'Low', 'Medium', 'Low', 'High']}\n",
        "df = pd.DataFrame(data)\n",
        "\n",
        "# Check if the column name exists in the DataFrame\n",
        "if \"C-Risk Level\" in df:\n",
        "    print(df[\"C-Risk Level\"].value_counts())\n",
        "    df[\"C-Risk Level\"].value_counts().plot(kind=\"pie\", autopct='%1.1f%%', figsize=(10, 10))\n",
        "    plt.show()\n",
        "else:\n",
        "    print(\"Column 'C-Risk Level' not found in the DataFrame.\")"
      ],
      "metadata": {
        "id": "fmHHroxQO2dD"
      },
      "execution_count": null,
      "outputs": []
    },
    {
      "cell_type": "code",
      "execution_count": null,
      "metadata": {
        "id": "61d152a5"
      },
      "outputs": [],
      "source": [
        "y = df['C-Risk Level']\n",
        "print(f'Percentage of C-Risk Level: % {round(y.value_counts(normalize=True)[1]*100,2)} --> \\\n",
        "({y.value_counts()[1]} cases for C-Risk Level)\\nPercentage of NOT C-Risk Level: % {round(y.value_counts(normalize=True)[0]*100,2)} --> ({y.value_counts()[0]} cases for NOT C-Risk Level)')"
      ]
    },
    {
      "cell_type": "code",
      "execution_count": null,
      "metadata": {
        "id": "bf2ee8b5"
      },
      "outputs": [],
      "source": [
        "df['C-Risk Level'].describe()"
      ]
    },
    {
      "cell_type": "code",
      "execution_count": null,
      "metadata": {
        "id": "33703efb"
      },
      "outputs": [],
      "source": [
        "# df[df['C-Risk Level']==0].describe().T.style.background_gradient(subset=['mean','std','50%','count'], cmap='RdPu')"
      ]
    },
    {
      "cell_type": "code",
      "source": [
        "# Replace this with your actual DataFrame\n",
        "data = {'C-Risk Level': [0, 1, 1, 0, 1],\n",
        "        'Column1': [5, 8, 10, 3, 6],\n",
        "        'Column2': [15, 18, 20, 13, 16]}\n",
        "df = pd.DataFrame(data)\n",
        "\n",
        "# Filter rows where 'C-Risk Level' is 0, then describe and apply background gradient\n",
        "desc_df = df[df['C-Risk Level'] == 0].describe().T.style.background_gradient(cmap='RdPu')\n",
        "\n",
        "# Display the styled summary\n",
        "desc_df"
      ],
      "metadata": {
        "id": "szWAWOM8Q3SG"
      },
      "execution_count": null,
      "outputs": []
    },
    {
      "cell_type": "code",
      "execution_count": null,
      "metadata": {
        "id": "eb6477ff"
      },
      "outputs": [],
      "source": [
        "df[df['C-Risk Level']==1].describe().T.style.background_gradient(subset=['mean','std','50%','count'], cmap='RdPu')"
      ]
    },
    {
      "cell_type": "code",
      "execution_count": null,
      "metadata": {
        "id": "9db4a27f"
      },
      "outputs": [],
      "source": [
        "print( f\"Skewness: {df['C-Risk Level'].skew()}\")"
      ]
    },
    {
      "cell_type": "code",
      "execution_count": null,
      "metadata": {
        "id": "7fb52f3d"
      },
      "outputs": [],
      "source": [
        "print( f\"Kurtosis: {df['C-Risk Level'].kurtosis()}\")"
      ]
    },
    {
      "cell_type": "code",
      "execution_count": null,
      "metadata": {
        "id": "bc52b0f3"
      },
      "outputs": [],
      "source": [
        "df['C-Risk Level'].iplot(kind='hist')\n"
      ]
    },
    {
      "cell_type": "markdown",
      "metadata": {
        "id": "fce6dd92"
      },
      "source": [
        "**Spliting Dataset into numeric & categoric features**"
      ]
    },
    {
      "cell_type": "code",
      "execution_count": null,
      "metadata": {
        "id": "6bf41664"
      },
      "outputs": [],
      "source": [
        "df.sample(5)"
      ]
    },
    {
      "cell_type": "code",
      "execution_count": null,
      "metadata": {
        "id": "f96f91d9"
      },
      "outputs": [],
      "source": [
        "numerical= df.drop([\"Gender\",\"C-Risk Level\"],axis=1)\n",
        "\n",
        "print(f'Numerical Columns:{numerical.columns}')\n"
      ]
    },
    {
      "cell_type": "markdown",
      "metadata": {
        "id": "2a0b6fcf"
      },
      "source": [
        "<a id=\"4.3\"></a>\n",
        "<font color=\"purple\" size=+1.5><b>4.3 - The Examination of Numerical Features</b></font>\n",
        "\n",
        "<a href=\"#toc\" class=\"btn btn-primary btn-sm\" role=\"button\" aria-pressed=\"true\" style=\"color:white\" data-toggle=\"popover\">Table of Contents</a>"
      ]
    },
    {
      "cell_type": "code",
      "execution_count": null,
      "metadata": {
        "id": "9f338a3e"
      },
      "outputs": [],
      "source": [
        "numerical.head().T"
      ]
    },
    {
      "cell_type": "code",
      "execution_count": null,
      "metadata": {
        "id": "89825c5f"
      },
      "outputs": [],
      "source": [
        "numerical.describe().T"
      ]
    },
    {
      "cell_type": "code",
      "execution_count": null,
      "metadata": {
        "id": "b747383d"
      },
      "outputs": [],
      "source": [
        "numerical.describe().T.style.background_gradient(subset=['mean','std','50%','count'], cmap='RdPu')"
      ]
    },
    {
      "cell_type": "code",
      "execution_count": null,
      "metadata": {
        "id": "ff148671"
      },
      "outputs": [],
      "source": [
        "numerical.drop(\"Age\",axis=1).iplot(kind='hist');"
      ]
    },
    {
      "cell_type": "code",
      "execution_count": null,
      "metadata": {
        "id": "63c0ff4b"
      },
      "outputs": [],
      "source": [
        "for i in numerical:\n",
        "    df[i].iplot(kind=\"box\", title=i, boxpoints=\"all\", color='purple')"
      ]
    },
    {
      "cell_type": "code",
      "execution_count": null,
      "metadata": {
        "id": "2b755922"
      },
      "outputs": [],
      "source": [
        "index = 0\n",
        "plt.figure(figsize=(25,25))\n",
        "for feature in numerical:\n",
        "    if feature != \"C-Risk Level\":\n",
        "        index += 1\n",
        "        plt.subplot(4, 5, index)\n",
        "        sns.boxplot(x='C-Risk Level',palette=\"Purples\",y=feature, data=df)"
      ]
    },
    {
      "cell_type": "code",
      "execution_count": null,
      "metadata": {
        "id": "93ed982a"
      },
      "outputs": [],
      "source": [
        "fig = px.scatter_3d(df,\n",
        "                    x='Genetic Risk',\n",
        "                    y='Age',\n",
        "                    z='Gender',\n",
        "                    color='C-Risk Level')\n",
        "fig.show();"
      ]
    },
    {
      "cell_type": "code",
      "execution_count": null,
      "metadata": {
        "id": "f78df000"
      },
      "outputs": [],
      "source": [
        "sns.pairplot(df, hue=\"C-Risk Level\", palette=\"inferno\", corner=True);"
      ]
    },
    {
      "cell_type": "markdown",
      "metadata": {
        "id": "e550f9f0"
      },
      "source": [
        "<a id=\"4.4\"></a>\n",
        "<font color=\"purple\" size=+1.5><b>4.4 - The Examination of Skewness & Kurtosis</b></font>\n",
        "\n",
        "<a href=\"#toc\" class=\"btn btn-primary btn-sm\" role=\"button\" aria-pressed=\"true\" style=\"color:white\" data-toggle=\"popover\">Table of Contents</a>"
      ]
    },
    {
      "cell_type": "code",
      "execution_count": null,
      "metadata": {
        "id": "15a4ca76"
      },
      "outputs": [],
      "source": [
        "plt.figure(figsize=(20, 16))\n",
        "sns.heatmap(df.corr(),cmap=\"BuPu\", annot=True)\n",
        "plt.xticks(rotation=45);"
      ]
    },
    {
      "cell_type": "code",
      "execution_count": null,
      "metadata": {
        "id": "6ccfb1dd"
      },
      "outputs": [],
      "source": [
        "df_temp = df.corr()\n",
        "\n",
        "count = \"Done\"\n",
        "feature =[]\n",
        "collinear=[]\n",
        "for col in df_temp.columns:\n",
        "    for i in df_temp.index:\n",
        "        if (df_temp[col][i]> .9 and df_temp[col][i] < 1) or (df_temp[col][i]< -.9 and df_temp[col][i] > -1) :\n",
        "                feature.append(col)\n",
        "                collinear.append(i)\n",
        "                print(Fore.RED + f\"\\033[1mmulticolinearity alert in between\\033[0m {col} - {i}\")\n",
        "        else:\n",
        "            print(f\"For {col} and {i}, there is NO multicollinearity problem\")\n",
        "\n",
        "print(\"\\033[1mThe number of strong corelated features:\\033[0m\", count)"
      ]
    },
    {
      "cell_type": "markdown",
      "metadata": {
        "id": "105ec906"
      },
      "source": [
        "<a id=\"5\"></a>\n",
        "<font color=\"purple\" size=+2.5><b>5) TRAIN | TEST SPLIT </b></font>\n",
        "\n",
        "<a href=\"#toc\" class=\"btn btn-primary btn-sm\" role=\"button\" aria-pressed=\"true\" style=\"color:white\" data-toggle=\"popover\">Table of Contents</a>"
      ]
    },
    {
      "cell_type": "markdown",
      "metadata": {
        "id": "94b6c89f"
      },
      "source": [
        "<a id=\"5.1\"></a>\n",
        "<font color=\"purple\" size=+1.5><b>5.1 Train | Test Split</b></font>\n",
        "\n",
        "<a href=\"#toc\" class=\"btn btn-primary btn-sm\" role=\"button\" aria-pressed=\"true\" style=\"color:white\" data-toggle=\"popover\">Table of Contents</a>"
      ]
    },
    {
      "cell_type": "markdown",
      "metadata": {
        "id": "S8QBweLGXPka"
      },
      "source": [
        "One of the important part is seperation of the columns (attributes or features) of the dataset into input patterns (X) and output patterns (y)."
      ]
    },
    {
      "cell_type": "code",
      "execution_count": null,
      "metadata": {
        "id": "376121ad"
      },
      "outputs": [],
      "source": [
        "df, predict = \\\n",
        "              np.split(df.sample(frac=1, random_state=42),\n",
        "                       [int(.9*len(df))])"
      ]
    },
    {
      "cell_type": "code",
      "execution_count": null,
      "metadata": {
        "id": "a6929380"
      },
      "outputs": [],
      "source": [
        "df.shape"
      ]
    },
    {
      "cell_type": "code",
      "execution_count": null,
      "metadata": {
        "id": "b103918d"
      },
      "outputs": [],
      "source": [
        "predict.shape"
      ]
    },
    {
      "cell_type": "code",
      "execution_count": null,
      "metadata": {
        "id": "04ddf4c0"
      },
      "outputs": [],
      "source": [
        "X = df.drop([\"C-Risk Level\"], axis=1)\n",
        "y = df[\"C-Risk Level\"]"
      ]
    },
    {
      "cell_type": "markdown",
      "metadata": {
        "id": "wGligPYOXPkb"
      },
      "source": [
        "Lastly, spliting the X and Y data into a training and test dataset. The training set will be used to prepare the models used in this study and the test set will be used to make new predictions, from which we can evaluate the performance of the model.\n",
        "\n",
        "Therefore this we will use the train_test_split() function from the scikit-learn library. We also specify a seed for the random number generator so that we always get the same split of data each time this example is executed."
      ]
    },
    {
      "cell_type": "markdown",
      "metadata": {
        "id": "02f8e631"
      },
      "source": [
        "### Train / Test and Split"
      ]
    },
    {
      "cell_type": "code",
      "execution_count": null,
      "metadata": {
        "id": "fbd9f6e9"
      },
      "outputs": [],
      "source": [
        "X_train, X_test, y_train, y_test = train_test_split(X, y, test_size=0.10, random_state = 101)"
      ]
    },
    {
      "cell_type": "markdown",
      "metadata": {
        "id": "17c569a9"
      },
      "source": [
        "<a id=\"6\"></a>\n",
        "<font color=\"purple\" size=+2.5><b>6) FEATURE SCALING</b></font>\n",
        "\n",
        "<a href=\"#toc\" class=\"btn btn-primary btn-sm\" role=\"button\" aria-pressed=\"true\" style=\"color:white\" data-toggle=\"popover\">Table of Contents</a>"
      ]
    },
    {
      "cell_type": "markdown",
      "metadata": {
        "id": "db1b6a36"
      },
      "source": [
        "<a id=\"6.1\"></a>\n",
        "<font color=\"purple\" size=+1.5><b>6.1 The Implementation of Scaling</b></font>\n",
        "\n",
        "<a href=\"#toc\" class=\"btn btn-primary btn-sm\" role=\"button\" aria-pressed=\"true\" style=\"color:white\" data-toggle=\"popover\">Table of Contents</a>"
      ]
    },
    {
      "cell_type": "markdown",
      "metadata": {
        "id": "8lVbU7XxXPkc"
      },
      "source": [
        "Since the range of values of raw data varies widely, in some machine learning algorithms, objective functions will not work properly without normalization.\n",
        "\n",
        "For machine learning, in general, it is necessary to normalize features so that no features are arbitrarily large (centering) and all features are on the same scale (scaling).\n",
        "\n",
        "In general, algorithms that exploit distances or similarities (e.g. in the form of scalar product) between data samples, such as K-NN and SVM, are sensitive to feature transformations. So it is generally useful, when you are solving a system of equations, least squares, etc, where you can have serious issues due to rounding errors.\n",
        "\n",
        "However, Graphical-model based classifiers, such as Fisher LDA or Naive Bayes, as well as Decision trees and Tree-based ensemble methods (RF, XGB) are invariant to feature scaling, but still, it might be a good idea to rescale/standardize your data.\n",
        "\n",
        "NOTE: XGBoost actually implements a second algorithm too, based on linear boosting. Scaling will make a difference there"
      ]
    },
    {
      "cell_type": "code",
      "execution_count": null,
      "metadata": {
        "id": "5ce8d241"
      },
      "outputs": [],
      "source": [
        "scaler = MinMaxScaler()\n",
        "scaler"
      ]
    },
    {
      "cell_type": "code",
      "execution_count": null,
      "metadata": {
        "id": "cf4bdb60"
      },
      "outputs": [],
      "source": [
        "X_train_scaled = scaler.fit_transform(X_train)"
      ]
    },
    {
      "cell_type": "code",
      "execution_count": null,
      "metadata": {
        "id": "a3bf99c3"
      },
      "outputs": [],
      "source": [
        "X_test_scaled = scaler.transform(X_test)"
      ]
    },
    {
      "cell_type": "markdown",
      "metadata": {
        "id": "44de438d"
      },
      "source": [
        "<a id=\"6.2\"></a>\n",
        "<font color=\"purple\" size=+1.5><b>6.2 General Insights Before Going Further</b></font>\n",
        "\n",
        "<a href=\"#toc\" class=\"btn btn-primary btn-sm\" role=\"button\" aria-pressed=\"true\" style=\"color:white\" data-toggle=\"popover\">Table of Contents</a>"
      ]
    },
    {
      "cell_type": "markdown",
      "metadata": {
        "id": "952ea5fd"
      },
      "source": [
        "- This project will start with vanila models.\n",
        "- Next step will continue with Grid-Search for each models.\n",
        "- Finally according to best model/models we will make final model.\n",
        "- We will conclude project by best model."
      ]
    },
    {
      "cell_type": "markdown",
      "metadata": {
        "id": "8272856a"
      },
      "source": [
        "<a id=\"7\"></a>\n",
        "<font color=\"purple\" size=+2.5><b>7) MODELLING & MODEL PERFORMANCE</b></font>\n",
        "\n",
        "<a href=\"#toc\" class=\"btn btn-primary btn-sm\" role=\"button\" aria-pressed=\"true\" style=\"color:white\" data-toggle=\"popover\">Table of Contents</a>"
      ]
    },
    {
      "cell_type": "markdown",
      "metadata": {
        "id": "0W8djBT_XPkd"
      },
      "source": [
        "- We decided to algorithms which be used in this project.\n",
        "- Algorithm will be applied in the order determined here."
      ]
    },
    {
      "cell_type": "code",
      "execution_count": null,
      "metadata": {
        "id": "9c62ebdc"
      },
      "outputs": [],
      "source": [
        "clf1 = LogisticRegression(random_state = 101)\n",
        "clf2 = SVC(probability=True,random_state = 101)\n",
        "clf3 = DecisionTreeClassifier(random_state = 101)\n",
        "clf4 = RandomForestClassifier(random_state = 101)\n",
        "clf5 = KNeighborsClassifier(n_neighbors=5)\n",
        "clf6 = GradientBoostingClassifier(random_state=101)\n",
        "clf7 = AdaBoostClassifier(random_state=101)\n",
        "clf8 = XGBClassifier(probability=True,random_state=101)\n"
      ]
    },
    {
      "cell_type": "markdown",
      "metadata": {
        "id": "57bb730f"
      },
      "source": [
        "<a id=\"7.1\"></a>\n",
        "<font color=\"purple\" size=+1.5><b>7.1 The Implementation of Logistic Regression (LR)</b></font>\n",
        "\n",
        "<a href=\"#toc\" class=\"btn btn-primary btn-sm\" role=\"button\" aria-pressed=\"true\" style=\"color:white\" data-toggle=\"popover\">Table of Contents</a>"
      ]
    },
    {
      "cell_type": "markdown",
      "metadata": {
        "id": "fa8d2cd4"
      },
      "source": [
        "<a id=\"7.1.a\"></a>\n",
        "<font color=\"purple\" size=+0.5><b>7.1.a Modelling Logistic Regression (LR) with Default Parameters</b></font>\n",
        "\n",
        "<a href=\"#toc\" class=\"btn btn-primary btn-sm\" role=\"button\" aria-pressed=\"true\" style=\"color:white\" data-toggle=\"popover\">Table of Contents</a>"
      ]
    },
    {
      "cell_type": "code",
      "execution_count": null,
      "metadata": {
        "id": "89e613d4"
      },
      "outputs": [],
      "source": [
        "clf1.fit(X_train_scaled, y_train)\n",
        "model_scorer(clf1, X_train, y_train, X_test, y_test)"
      ]
    },
    {
      "cell_type": "code",
      "execution_count": null,
      "metadata": {
        "id": "9fc8d22e"
      },
      "outputs": [],
      "source": [
        "scores = cross_validate(clf1, X_train_scaled, y_train, scoring = ['accuracy', 'precision','recall','f1'], cv = 10)\n",
        "df_scores = pd.DataFrame(scores, index = range(1, 11))\n",
        "df_scores\n",
        "df_scores.mean()[2:]"
      ]
    },
    {
      "cell_type": "markdown",
      "metadata": {
        "id": "eHh0QjOwXPkd"
      },
      "source": [
        "-"
      ]
    },
    {
      "cell_type": "markdown",
      "metadata": {
        "id": "65859e4b"
      },
      "source": [
        "<a id=\"7.1.c\"></a>\n",
        "<font color=\"purple\" size=+0.5><b>7.1.c Modelling Logistic Regression (LR) with Best Parameters Using GridSeachCV</b></font>\n",
        "\n",
        "<a href=\"#toc\" class=\"btn btn-primary btn-sm\" role=\"button\" aria-pressed=\"true\" style=\"color:white\" data-toggle=\"popover\">Table of Contents</a>\n",
        "**Let's look at the best parameters & estimator found by GridSearchCV.**"
      ]
    },
    {
      "cell_type": "code",
      "execution_count": null,
      "metadata": {
        "id": "b1564d3c"
      },
      "outputs": [],
      "source": [
        "clf1_GridSearch = LogisticRegression(solver='saga', max_iter=5000)"
      ]
    },
    {
      "cell_type": "code",
      "execution_count": null,
      "metadata": {
        "id": "90d1e9a1"
      },
      "outputs": [],
      "source": [
        "penalty = [\"l1\", \"l2\", \"elasticnet\"]\n",
        "l1_ratio = np.linspace(0, 1, 20)\n",
        "C = np.logspace(0, 10, 20)\n",
        "\n",
        "param_grid = {\"penalty\" : penalty,\n",
        "             \"l1_ratio\" : l1_ratio,\n",
        "             \"C\" : C}"
      ]
    },
    {
      "cell_type": "code",
      "execution_count": null,
      "metadata": {
        "id": "2a58f4d2"
      },
      "outputs": [],
      "source": [
        "grid_model = GridSearchCV(clf1_GridSearch, param_grid = param_grid)"
      ]
    },
    {
      "cell_type": "code",
      "execution_count": null,
      "metadata": {
        "id": "9d572ae3"
      },
      "outputs": [],
      "source": [
        "grid_model.fit(X_train_scaled,y_train)"
      ]
    },
    {
      "cell_type": "code",
      "execution_count": null,
      "metadata": {
        "id": "4d9392b9"
      },
      "outputs": [],
      "source": [
        "grid_model.best_params_"
      ]
    },
    {
      "cell_type": "code",
      "execution_count": null,
      "metadata": {
        "id": "bc187f51"
      },
      "outputs": [],
      "source": [
        "log_scorer= model_scorer(grid_model, X_train_scaled, y_train, X_test_scaled, y_test)\n",
        "log_scorer"
      ]
    },
    {
      "cell_type": "markdown",
      "metadata": {
        "id": "8c23e544"
      },
      "source": [
        "<a id=\"7.1.d\"></a>\n",
        "<font color=\"purple\" size=+0.5><b>7.1.d ROC (Receiver Operating Curve) and AUC (Area Under Curve)</b></font>\n",
        "\n",
        "<a href=\"#toc\" class=\"btn btn-primary btn-sm\" role=\"button\" aria-pressed=\"true\" style=\"color:white\" data-toggle=\"popover\">Table of Contents</a>"
      ]
    },
    {
      "cell_type": "code",
      "execution_count": null,
      "metadata": {
        "id": "784ef4ea"
      },
      "outputs": [],
      "source": [
        "plot_roc_curve(grid_model, X_test_scaled, y_test);"
      ]
    },
    {
      "cell_type": "code",
      "execution_count": null,
      "metadata": {
        "id": "963f51ab"
      },
      "outputs": [],
      "source": [
        "plot_precision_recall_curve(grid_model, X_test_scaled, y_test);"
      ]
    },
    {
      "cell_type": "code",
      "execution_count": null,
      "metadata": {
        "id": "971d0965"
      },
      "outputs": [],
      "source": [
        "y_pred = grid_model.predict(X_test_scaled)"
      ]
    },
    {
      "cell_type": "code",
      "execution_count": null,
      "metadata": {
        "id": "6b017e4f"
      },
      "outputs": [],
      "source": [
        "log_acc = log_scorer[\"test_set\"][0]"
      ]
    },
    {
      "cell_type": "markdown",
      "metadata": {
        "id": "272ff126"
      },
      "source": [
        "<a id=\"7.2\"></a>\n",
        "<font color=\"purple\" size=+1.5><b>7.2 The Implementation of Support Vector Machine (SVM)</b></font>\n",
        "\n",
        "<a href=\"#toc\" class=\"btn btn-primary btn-sm\" role=\"button\" aria-pressed=\"true\" style=\"color:white\" data-toggle=\"popover\">Table of Contents</a>"
      ]
    },
    {
      "cell_type": "markdown",
      "metadata": {
        "id": "5d0b0d58"
      },
      "source": [
        "**First let's take a close look at the models' accuracy scores for comparing the results given by Scaled, Not Scaled, Balanced and Not Balanced models.**"
      ]
    },
    {
      "cell_type": "markdown",
      "metadata": {
        "id": "3b2a76c5"
      },
      "source": [
        "<a id=\"7.2.a\"></a>\n",
        "<font color=\"purple\" size=+0.5><b>7.2.a Modelling Support Vector Machine (SVM) with Default Parameters</b></font>\n",
        "\n",
        "<a href=\"#toc\" class=\"btn btn-primary btn-sm\" role=\"button\" aria-pressed=\"true\" style=\"color:white\" data-toggle=\"popover\">Table of Contents</a>"
      ]
    },
    {
      "cell_type": "code",
      "execution_count": null,
      "metadata": {
        "id": "HZpZFOpaa_07"
      },
      "outputs": [],
      "source": [
        "clf2.fit(X_train_scaled, y_train)\n",
        "model_scorer(clf2, X_train_scaled, y_train, X_test_scaled, y_test)"
      ]
    },
    {
      "cell_type": "markdown",
      "metadata": {
        "id": "6bb8b5f5"
      },
      "source": [
        "<a id=\"7.2.c\"></a>\n",
        "<font color=\"purple\" size=+0.5><b>7.2.c Modelling Support Vector Machine (SVM)  with Best Parameters Using GridSeachCV</b></font>\n",
        "\n",
        "<a href=\"#toc\" class=\"btn btn-primary btn-sm\" role=\"button\" aria-pressed=\"true\" style=\"color:white\" data-toggle=\"popover\">Table of Contents</a>\n",
        "\n",
        "**Let's look at the best parameters & estimator found by GridSearchCV.**"
      ]
    },
    {
      "cell_type": "code",
      "execution_count": null,
      "metadata": {
        "id": "h54DG3Dka_07"
      },
      "outputs": [],
      "source": [
        "param_grid = {'SVC__C': [0.001, 0.05, 0.01, 0.1],\n",
        "              'SVC__gamma': [\"scale\", \"auto\", 0.2, 0.3],\n",
        "              'SVC__kernel': ['rbf', 'linear']}"
      ]
    },
    {
      "cell_type": "code",
      "execution_count": null,
      "metadata": {
        "id": "Y4vnWMDCa_07"
      },
      "outputs": [],
      "source": [
        "operations = [(\"scaler\", StandardScaler()), (\"SVC\", SVC(probability=True, random_state= 101))]# probability=True for ROC\n",
        "pipe_model = Pipeline(steps=operations)\n",
        "\n",
        "svm_model_grid = GridSearchCV(pipe_model, param_grid, scoring=\"accuracy\", cv=10)"
      ]
    },
    {
      "cell_type": "code",
      "execution_count": null,
      "metadata": {
        "id": "yv_yVmTla_07"
      },
      "outputs": [],
      "source": [
        "svm_model_grid.fit(X_train, y_train)\n",
        "svm_scorer = model_scorer(clf2, X_train_scaled, y_train, X_test_scaled, y_test)\n",
        "svm_scorer"
      ]
    },
    {
      "cell_type": "code",
      "execution_count": null,
      "metadata": {
        "id": "Z1nYeVeaa_08"
      },
      "outputs": [],
      "source": [
        "svm_model_grid.best_params_"
      ]
    },
    {
      "cell_type": "markdown",
      "metadata": {
        "id": "6c921c9b"
      },
      "source": [
        "<a id=\"7.2.d\"></a>\n",
        "<font color=\"purple\" size=+0.5><b>7.2.d ROC (Receiver Operating Curve) and AUC (Area Under Curve)</b></font>\n",
        "\n",
        "<a href=\"#toc\" class=\"btn btn-primary btn-sm\" role=\"button\" aria-pressed=\"true\" style=\"color:white\" data-toggle=\"popover\">Table of Contents</a>"
      ]
    },
    {
      "cell_type": "code",
      "execution_count": null,
      "metadata": {
        "id": "0QG9eRb-a_08"
      },
      "outputs": [],
      "source": [
        "plot_roc_curve(svm_model_grid, X_test_scaled, y_test);"
      ]
    },
    {
      "cell_type": "code",
      "execution_count": null,
      "metadata": {
        "id": "91cf631c"
      },
      "outputs": [],
      "source": [
        "plot_precision_recall_curve(svm_model_grid, X_test_scaled, y_test);"
      ]
    },
    {
      "cell_type": "code",
      "execution_count": null,
      "metadata": {
        "id": "6a6db3f1"
      },
      "outputs": [],
      "source": [
        "y_pred = svm_model_grid.predict(X_test_scaled)"
      ]
    },
    {
      "cell_type": "code",
      "execution_count": null,
      "metadata": {
        "id": "f0f4aa8a"
      },
      "outputs": [],
      "source": [
        "svm_acc =svm_scorer[\"test_set\"][0]"
      ]
    },
    {
      "cell_type": "markdown",
      "metadata": {
        "id": "0816d258"
      },
      "source": [
        "<a id=\"7.3\"></a>\n",
        "<font color=\"purple\" size=+1.5><b>7.3 The Implementation of Decision Tree (DT)</b></font>\n",
        "\n",
        "<a href=\"#toc\" class=\"btn btn-primary btn-sm\" role=\"button\" aria-pressed=\"true\" style=\"color:white\" data-toggle=\"popover\">Table of Contents</a>\n",
        "\n",
        "**First let's take a close look at the models' accuracy scores for comparing the results given by Scaled, Not Scaled, Balanced and Not Balanced models.**"
      ]
    },
    {
      "cell_type": "markdown",
      "metadata": {
        "id": "5e3400fb"
      },
      "source": [
        "<a id=\"7.3.a\"></a>\n",
        "<font color=\"purple\" size=+0.5><b>7.3.a Modelling Decision Tree (DT) with Default Parameters</b></font>\n",
        "\n",
        "<a href=\"#toc\" class=\"btn btn-primary btn-sm\" role=\"button\" aria-pressed=\"true\" style=\"color:white\" data-toggle=\"popover\">Table of Contents</a>"
      ]
    },
    {
      "cell_type": "code",
      "execution_count": null,
      "metadata": {
        "id": "oXFW87wwa_08"
      },
      "outputs": [],
      "source": [
        "clf3.fit(X_train, y_train)\n",
        "model_scorer(clf3, X_train, y_train, X_test, y_test)"
      ]
    },
    {
      "cell_type": "code",
      "execution_count": null,
      "metadata": {
        "id": "b593040b"
      },
      "outputs": [],
      "source": [
        "from yellowbrick.classifier import ClassPredictionError\n",
        "visualizer = ClassPredictionError(clf3)\n",
        "\n",
        "# Fit the training data to the visualizer\n",
        "visualizer.fit(X_train, y_train)\n",
        "\n",
        "# Evaluate the model on the test data\n",
        "visualizer.score(X_test, y_test)\n",
        "\n",
        "# Draw visualization\n",
        "visualizer.poof();"
      ]
    },
    {
      "cell_type": "code",
      "execution_count": null,
      "metadata": {
        "id": "uhUD2KJIa_08"
      },
      "outputs": [],
      "source": [
        "\n",
        "plt.figure(figsize=(12,8))\n",
        "plot_tree(clf3);"
      ]
    },
    {
      "cell_type": "markdown",
      "metadata": {
        "id": "4512738e"
      },
      "source": [
        "<a id=\"7.3.c\"></a>\n",
        "<font color=\"purple\" size=+0.5><b>7.3.c Modelling Decision Tree (DT) with Best Parameters Using GridSeachCV</b></font>\n",
        "\n",
        "<a href=\"#toc\" class=\"btn btn-primary btn-sm\" role=\"button\" aria-pressed=\"true\" style=\"color:white\" data-toggle=\"popover\">Table of Contents</a>\n",
        "\n",
        "**Let's look at the best parameters & estimator found by GridSearchCV.**"
      ]
    },
    {
      "cell_type": "code",
      "execution_count": null,
      "metadata": {
        "id": "wr38Ksuua_08"
      },
      "outputs": [],
      "source": [
        "param_grid_DT = {\"splitter\":[\"best\", \"random\"],\n",
        "              \"max_features\":[None, \"auto\", \"log2\", 2, 3,4, 5,6, 7],    # None dersen bütün feature ları kullanır. Default u None dır.\n",
        "              \"max_depth\": [None, 2,3, 4, 5],\n",
        "              \"min_samples_leaf\": [1, 2, 3, 4, 5, 6,7],\n",
        "              \"min_samples_split\": [2, 3, 5, 6, 7,8,9]}"
      ]
    },
    {
      "cell_type": "code",
      "execution_count": null,
      "metadata": {
        "id": "kJGWn0K8a_08"
      },
      "outputs": [],
      "source": [
        "grid_model_DT = GridSearchCV(estimator= clf3,\n",
        "                          param_grid=param_grid_DT,\n",
        "                          scoring='f1_macro',\n",
        "                          cv=10,\n",
        "                          n_jobs = -1)"
      ]
    },
    {
      "cell_type": "code",
      "execution_count": null,
      "metadata": {
        "id": "cfac13d6"
      },
      "outputs": [],
      "source": [
        "grid_model_DT.fit(X_train, y_train)\n",
        "model_scorer(grid_model_DT, X_train, y_train, X_test, y_test)"
      ]
    },
    {
      "cell_type": "code",
      "execution_count": null,
      "metadata": {
        "id": "c724657c"
      },
      "outputs": [],
      "source": [
        "DT_scorer = model_scorer(grid_model_DT, X_train, y_train, X_test, y_test)\n",
        "DT_scorer"
      ]
    },
    {
      "cell_type": "markdown",
      "metadata": {
        "id": "611ca295"
      },
      "source": [
        "<a id=\"7.3.e\"></a>\n",
        "<font color=\"purple\" size=+0.5><b>7.3.e ROC (Receiver Operating Curve) and AUC (Area Under Curve)</b></font>\n",
        "\n",
        "<a href=\"#toc\" class=\"btn btn-primary btn-sm\" role=\"button\" aria-pressed=\"true\" style=\"color:white\" data-toggle=\"popover\">Table of Contents</a>"
      ]
    },
    {
      "cell_type": "code",
      "execution_count": null,
      "metadata": {
        "id": "482dcd41"
      },
      "outputs": [],
      "source": [
        "plot_roc_curve(grid_model_DT, X_test_scaled, y_test);"
      ]
    },
    {
      "cell_type": "code",
      "execution_count": null,
      "metadata": {
        "id": "bf341a05"
      },
      "outputs": [],
      "source": [
        "plot_precision_recall_curve(grid_model_DT, X_test_scaled, y_test);"
      ]
    },
    {
      "cell_type": "code",
      "execution_count": null,
      "metadata": {
        "id": "774912f2"
      },
      "outputs": [],
      "source": [
        "y_pred = grid_model_DT.predict(X_test_scaled)"
      ]
    },
    {
      "cell_type": "code",
      "execution_count": null,
      "metadata": {
        "id": "bddb557d"
      },
      "outputs": [],
      "source": [
        "dt_acc = DT_scorer[\"test_set\"][0]"
      ]
    },
    {
      "cell_type": "markdown",
      "metadata": {
        "id": "e7ae74c7"
      },
      "source": [
        "<a id=\"7.4\"></a>\n",
        "<font color=\"purple\" size=+1.5><b>7.4 The Implementation of Random Forest (RF)</b></font>\n",
        "\n",
        "<a href=\"#toc\" class=\"btn btn-primary btn-sm\" role=\"button\" aria-pressed=\"true\" style=\"color:white\" data-toggle=\"popover\">Table of Contents</a>\n",
        "\n",
        "**First let's take a close look at the models' accuracy scores for comparing the results given by Scaled, Not Scaled, Balanced and Not Balanced models.**"
      ]
    },
    {
      "cell_type": "markdown",
      "metadata": {
        "id": "c14e1feb"
      },
      "source": [
        "<a id=\"7.4.a\"></a>\n",
        "<font color=\"purple\" size=+0.5><b>7.4.a Modelling Random Forest (RF) with Default Parameters</b></font>\n",
        "\n",
        "<a href=\"#toc\" class=\"btn btn-primary btn-sm\" role=\"button\" aria-pressed=\"true\" style=\"color:white\" data-toggle=\"popover\">Table of Contents</a>"
      ]
    },
    {
      "cell_type": "code",
      "execution_count": null,
      "metadata": {
        "id": "7301894e"
      },
      "outputs": [],
      "source": [
        "clf4.fit(X_train, y_train)\n",
        "model_scorer(clf4, X_train, y_train, X_test, y_test)"
      ]
    },
    {
      "cell_type": "markdown",
      "metadata": {
        "id": "b994f200"
      },
      "source": [
        "<a id=\"7.4.c\"></a>\n",
        "<font color=\"purple\" size=+0.5><b>7.4.c Modelling Random Forest (RF) with Best Parameters Using GridSeachCV</b></font>\n",
        "\n",
        "<a href=\"#toc\" class=\"btn btn-primary btn-sm\" role=\"button\" aria-pressed=\"true\" style=\"color:white\" data-toggle=\"popover\">Table of Contents</a>\n",
        "\n",
        "**Let's look at the best parameters & estimator found by GridSearchCV.**"
      ]
    },
    {
      "cell_type": "code",
      "execution_count": null,
      "metadata": {
        "id": "8eef1bc7"
      },
      "outputs": [],
      "source": [
        "param_grid_rf = {\"n_estimators\": [100,200,500,1000],\n",
        "            \"max_features\": [3,5,7,8],\n",
        "            \"min_samples_split\": [2,5,10,20]}"
      ]
    },
    {
      "cell_type": "code",
      "execution_count": null,
      "metadata": {
        "id": "01ae14ac"
      },
      "outputs": [],
      "source": [
        "rf_cv_model = GridSearchCV(clf4, param_grid_rf, cv = 10, n_jobs = -1, verbose = 2)"
      ]
    },
    {
      "cell_type": "code",
      "execution_count": null,
      "metadata": {
        "id": "6b541576"
      },
      "outputs": [],
      "source": [
        "rf_cv_model.fit(X_train, y_train)\n",
        "rf_scorer = model_scorer(rf_cv_model, X_train, y_train, X_test, y_test)\n",
        "rf_scorer"
      ]
    },
    {
      "cell_type": "markdown",
      "metadata": {
        "id": "24e12db0"
      },
      "source": [
        "<a id=\"7.4.e\"></a>\n",
        "<font color=\"purple\" size=+0.5><b>7.4.e ROC (Receiver Operating Curve) and AUC (Area Under Curve)</b></font>\n",
        "\n",
        "<a href=\"#toc\" class=\"btn btn-primary btn-sm\" role=\"button\" aria-pressed=\"true\" style=\"color:white\" data-toggle=\"popover\">Table of Contents</a>"
      ]
    },
    {
      "cell_type": "code",
      "execution_count": null,
      "metadata": {
        "id": "77655812"
      },
      "outputs": [],
      "source": [
        "plot_roc_curve(rf_cv_model, X_test_scaled, y_test);"
      ]
    },
    {
      "cell_type": "code",
      "execution_count": null,
      "metadata": {
        "id": "142f7fb3"
      },
      "outputs": [],
      "source": [
        "plot_precision_recall_curve(rf_cv_model, X_test_scaled, y_test);"
      ]
    },
    {
      "cell_type": "code",
      "execution_count": null,
      "metadata": {
        "id": "b01b8ca6"
      },
      "outputs": [],
      "source": [
        "y_pred = rf_cv_model.predict(X_test_scaled)"
      ]
    },
    {
      "cell_type": "code",
      "execution_count": null,
      "metadata": {
        "id": "bf624734"
      },
      "outputs": [],
      "source": [
        "rf_acc = rf_scorer[\"test_set\"][0]"
      ]
    },
    {
      "cell_type": "markdown",
      "metadata": {
        "id": "fd47a270"
      },
      "source": [
        "<a id=\"7.5\"></a>\n",
        "<font color=\"purple\" size=+1.5><b>7.5 The Implementation of K-Nearest Neighbor (KNN)</b></font>\n",
        "\n",
        "<a href=\"#toc\" class=\"btn btn-primary btn-sm\" role=\"button\" aria-pressed=\"true\" style=\"color:white\" data-toggle=\"popover\">Table of Contents</a>\n",
        "\n",
        "**First let's take a close look at the models' accuracy scores for comparing the results given by Scaled, Not Scaled, Balanced and Not Balanced models.**"
      ]
    },
    {
      "cell_type": "markdown",
      "metadata": {
        "id": "8634ffb9"
      },
      "source": [
        "<a id=\"7.5.a\"></a>\n",
        "<font color=\"purple\" size=+0.5><b>7.5.a Modelling K-Nearest Neighbor (KNN) with Default Parameters</b></font>\n",
        "\n",
        "<a href=\"#toc\" class=\"btn btn-primary btn-sm\" role=\"button\" aria-pressed=\"true\" style=\"color:white\" data-toggle=\"popover\">Table of Contents</a>"
      ]
    },
    {
      "cell_type": "code",
      "execution_count": null,
      "metadata": {
        "id": "tAWUE9qVa_09"
      },
      "outputs": [],
      "source": [
        "clf5.fit(X_train_scaled, y_train)\n",
        "model_scorer(clf5, X_train_scaled, y_train, X_test_scaled, y_test)"
      ]
    },
    {
      "cell_type": "markdown",
      "metadata": {
        "id": "52cf815e"
      },
      "source": [
        "<a id=\"7.5.d\"></a>\n",
        "<font color=\"purple\" size=+0.5><b>7.5.d GridsearchCV for Choosing Reasonable K Values</b></font>\n",
        "\n",
        "<a href=\"#toc\" class=\"btn btn-primary btn-sm\" role=\"button\" aria-pressed=\"true\" style=\"color:white\" data-toggle=\"popover\">Table of Contents</a>\n",
        "\n",
        "**Let's look at the best parameters & estimator found by GridSearchCV.**"
      ]
    },
    {
      "cell_type": "code",
      "execution_count": null,
      "metadata": {
        "id": "f76b4bbc"
      },
      "outputs": [],
      "source": [
        "k_values= range(1,30)"
      ]
    },
    {
      "cell_type": "code",
      "execution_count": null,
      "metadata": {
        "id": "8a40aab9"
      },
      "outputs": [],
      "source": [
        "param_grid_knn = {\"n_neighbors\":k_values, \"p\": [1,2], \"weights\": ['uniform', \"distance\"]}"
      ]
    },
    {
      "cell_type": "code",
      "execution_count": null,
      "metadata": {
        "id": "a21c30e6"
      },
      "outputs": [],
      "source": [
        "knn_grid_model = GridSearchCV(clf5, param_grid_knn, cv=10, scoring= 'accuracy')\n"
      ]
    },
    {
      "cell_type": "code",
      "execution_count": null,
      "metadata": {
        "id": "sUugCaMra_0-"
      },
      "outputs": [],
      "source": [
        "knn_grid_model.fit(X_train_scaled, y_train)\n",
        "knn_scorer= model_scorer(knn_grid_model, X_train_scaled, y_train, X_test_scaled, y_test)\n",
        "knn_scorer"
      ]
    },
    {
      "cell_type": "markdown",
      "metadata": {
        "id": "765d1dd8"
      },
      "source": [
        "<a id=\"7.5.e\"></a>\n",
        "<font color=\"purple\" size=+0.5><b>7.5.e ROC (Receiver Operating Curve) and AUC (Area Under Curve)</b></font>\n",
        "\n",
        "<a href=\"#toc\" class=\"btn btn-primary btn-sm\" role=\"button\" aria-pressed=\"true\" style=\"color:white\" data-toggle=\"popover\">Table of Contents</a>"
      ]
    },
    {
      "cell_type": "code",
      "execution_count": null,
      "metadata": {
        "id": "e41b7fd9"
      },
      "outputs": [],
      "source": [
        "plot_roc_curve(knn_grid_model, X_test_scaled, y_test);"
      ]
    },
    {
      "cell_type": "code",
      "execution_count": null,
      "metadata": {
        "id": "2c480b65"
      },
      "outputs": [],
      "source": [
        "plot_precision_recall_curve(knn_grid_model, X_test_scaled, y_test);"
      ]
    },
    {
      "cell_type": "code",
      "execution_count": null,
      "metadata": {
        "id": "bc556395"
      },
      "outputs": [],
      "source": [
        "y_pred = knn_grid_model.predict(X_test_scaled)"
      ]
    },
    {
      "cell_type": "code",
      "execution_count": null,
      "metadata": {
        "id": "b2c41518"
      },
      "outputs": [],
      "source": [
        "knn_acc = knn_scorer[\"test_set\"][0]"
      ]
    },
    {
      "cell_type": "markdown",
      "metadata": {
        "id": "c4be54a2"
      },
      "source": [
        "<a id=\"7.6\"></a>\n",
        "<font color=\"purple\" size=+1.5><b>7.6 The Implementation of GradientBoosting (GB)</b></font>\n",
        "\n",
        "<a href=\"#toc\" class=\"btn btn-primary btn-sm\" role=\"button\" aria-pressed=\"true\" style=\"color:white\" data-toggle=\"popover\">Table of Contents</a>\n",
        "\n",
        "**First let's take a close look at the models' accuracy scores for comparing the results given by Scaled, Not Scaled, Balanced and Not Balanced models.**"
      ]
    },
    {
      "cell_type": "markdown",
      "metadata": {
        "id": "ea1dab54"
      },
      "source": [
        "<a id=\"7.6.a\"></a>\n",
        "<font color=\"purple\" size=+0.5><b>7.6.a Modelling GradientBoosting (GB) with Default Parameters</b></font>\n",
        "\n",
        "<a href=\"#toc\" class=\"btn btn-primary btn-sm\" role=\"button\" aria-pressed=\"true\" style=\"color:white\" data-toggle=\"popover\">Table of Contents</a>\n",
        "\n",
        "**Cross-checking the model by predictions in Train Set for consistency**"
      ]
    },
    {
      "cell_type": "code",
      "execution_count": null,
      "metadata": {
        "id": "3c7836d4"
      },
      "outputs": [],
      "source": [
        "X = df.drop([\"C-Risk Level\"], axis=1)\n",
        "y = df[\"C-Risk Level\"]"
      ]
    },
    {
      "cell_type": "code",
      "execution_count": null,
      "metadata": {
        "id": "b32ca96e"
      },
      "outputs": [],
      "source": [
        "clf6.fit(X_train, y_train)"
      ]
    },
    {
      "cell_type": "code",
      "execution_count": null,
      "metadata": {
        "id": "fd70b750"
      },
      "outputs": [],
      "source": [
        "model_scorer(clf6, X_train, y_train, X_test, y_test)"
      ]
    },
    {
      "cell_type": "markdown",
      "metadata": {
        "id": "57165353"
      },
      "source": [
        "<a id=\"7.6.d\"></a>\n",
        "<font color=\"purple\" size=+0.5><b>7.6.d Modelling GradientBoosting (GB) Model with Best Parameters Using GridSeachCV</b></font>\n",
        "\n",
        "<a href=\"#toc\" class=\"btn btn-primary btn-sm\" role=\"button\" aria-pressed=\"true\" style=\"color:white\" data-toggle=\"popover\">Table of Contents</a>\n",
        "\n",
        "**Let's look at the best parameters & estimator found by GridSearchCV.**"
      ]
    },
    {
      "cell_type": "code",
      "execution_count": null,
      "metadata": {
        "id": "fbb10282"
      },
      "outputs": [],
      "source": [
        "param_grid = {\"n_estimators\":[100, 200, 300],\n",
        "             \"subsample\":[0.5, 1], \"max_features\" : [None, 2, 3, 4],\n",
        "             \"learning_rate\": [0.2, 0.5, 0.6, 0.75, 0.85, 1.0, 1.25, 1.5]}  # 'max_depth':[3,4,5,6]\n",
        "\n"
      ]
    },
    {
      "cell_type": "code",
      "execution_count": null,
      "metadata": {
        "id": "055807a3"
      },
      "outputs": [],
      "source": [
        "GB_grid_model = GridSearchCV(clf6, param_grid, scoring = \"f1\", verbose=2, n_jobs = -1).fit(X_train, y_train)"
      ]
    },
    {
      "cell_type": "code",
      "execution_count": null,
      "metadata": {
        "id": "b55d3dfb"
      },
      "outputs": [],
      "source": [
        "param_grid_gb = {\"n_estimators_\": [100, 200, 300],\n",
        "             \"subsample\":[0.5, 1], \"max_features\" : [None, 2, 3, 4],\n",
        "             \"learning_rate\": [0.001, 0.01, 0.1], 'max_depth':[3,4,5,6]}"
      ]
    },
    {
      "cell_type": "code",
      "execution_count": null,
      "metadata": {
        "id": "cbcf942d"
      },
      "outputs": [],
      "source": [
        "grid_gb = GridSearchCV(clf6, param_grid, scoring = \"accuracy\", verbose=2, n_jobs = -1)"
      ]
    },
    {
      "cell_type": "code",
      "execution_count": null,
      "metadata": {
        "id": "0875189b"
      },
      "outputs": [],
      "source": [
        "grid_gb.fit(X_train, y_train)\n",
        "gb_scorer =model_scorer(grid_gb, X_train, y_train, X_test, y_test)\n",
        "gb_scorer"
      ]
    },
    {
      "cell_type": "markdown",
      "metadata": {
        "id": "b147960d"
      },
      "source": [
        "<a id=\"7.6.e\"></a>\n",
        "<font color=\"purple\" size=+0.5><b>7.6.e ROC (Receiver Operating Curve) and AUC (Area Under Curve)</b></font>\n",
        "\n",
        "<a href=\"#toc\" class=\"btn btn-primary btn-sm\" role=\"button\" aria-pressed=\"true\" style=\"color:white\" data-toggle=\"popover\">Table of Contents</a>"
      ]
    },
    {
      "cell_type": "code",
      "execution_count": null,
      "metadata": {
        "id": "d23056ff"
      },
      "outputs": [],
      "source": [
        "plot_roc_curve(grid_gb, X_test, y_test);"
      ]
    },
    {
      "cell_type": "code",
      "execution_count": null,
      "metadata": {
        "id": "b6ee1331"
      },
      "outputs": [],
      "source": [
        "plot_precision_recall_curve(grid_gb, X_test, y_test);"
      ]
    },
    {
      "cell_type": "code",
      "execution_count": null,
      "metadata": {
        "id": "f01a82ba"
      },
      "outputs": [],
      "source": [
        "y_pred = grid_gb.predict(X_test_scaled)"
      ]
    },
    {
      "cell_type": "code",
      "execution_count": null,
      "metadata": {
        "id": "8e9273f2"
      },
      "outputs": [],
      "source": [
        "gb_acc =gb_scorer[\"test_set\"][0]"
      ]
    },
    {
      "cell_type": "markdown",
      "metadata": {
        "id": "9401a3d6"
      },
      "source": [
        "<a id=\"7.7\"></a>\n",
        "<font color=\"purple\" size=+1.5><b>7.7 The Implementation of AdaBoosting (AB)</b></font>\n",
        "\n",
        "<a href=\"#toc\" class=\"btn btn-primary btn-sm\" role=\"button\" aria-pressed=\"true\" style=\"color:white\" data-toggle=\"popover\">Table of Contents</a>\n",
        "\n",
        "**First let's take a close look at the models' accuracy scores for comparing the results given by Scaled, Not Scaled, Balanced and Not Balanced models.**"
      ]
    },
    {
      "cell_type": "markdown",
      "metadata": {
        "id": "bcfe7311"
      },
      "source": [
        "<a id=\"7.7.a\"></a>\n",
        "<font color=\"purple\" size=+0.5><b>7.7.a Modelling AdaBoostingBoosting (AB) with Default Parameters & Model Performance</b></font>\n",
        "\n",
        "<a href=\"#toc\" class=\"btn btn-primary btn-sm\" role=\"button\" aria-pressed=\"true\" style=\"color:white\" data-toggle=\"popover\">Table of Contents</a>"
      ]
    },
    {
      "cell_type": "markdown",
      "metadata": {
        "id": "bacc08c8"
      },
      "source": [
        "ADAboosting"
      ]
    },
    {
      "cell_type": "code",
      "execution_count": null,
      "metadata": {
        "id": "bcf86a01"
      },
      "outputs": [],
      "source": [
        "clf7.fit(X_train, y_train)\n",
        "model_scorer(clf7, X_train, y_train, X_test, y_test)"
      ]
    },
    {
      "cell_type": "markdown",
      "metadata": {
        "id": "877905ed"
      },
      "source": [
        "<a id=\"7.7.f\"></a>\n",
        "<font color=\"purple\" size=+0.5><b>7.7.f Modelling AdaBoosting (AB) with Best Parameters Using GridSearchCV</b></font>\n",
        "\n",
        "<a href=\"#toc\" class=\"btn btn-primary btn-sm\" role=\"button\" aria-pressed=\"true\" style=\"color:white\" data-toggle=\"popover\">Table of Contents</a>\n",
        "\n",
        "**Let's look at the best parameters & estimator found by GridSearchCV.**"
      ]
    },
    {
      "cell_type": "code",
      "execution_count": null,
      "metadata": {
        "id": "ee2b3dd4"
      },
      "outputs": [],
      "source": [
        "param_grid_ada = {\"n_estimators\": [17, 20, 100, 500], \"learning_rate\": [0.01, 0.1, 0.2, 0.5, 1.0]}"
      ]
    },
    {
      "cell_type": "code",
      "execution_count": null,
      "metadata": {
        "id": "-tBp3AoSa_0_"
      },
      "outputs": [],
      "source": [
        "ada_grid_model = GridSearchCV(clf7, param_grid_ada, cv=5, scoring= 'accuracy')\n",
        "ada_grid_model.fit(X_train, y_train)\n",
        "ada_scorer = model_scorer(ada_grid_model, X_train, y_train, X_test, y_test)\n",
        "ada_scorer"
      ]
    },
    {
      "cell_type": "markdown",
      "metadata": {
        "id": "4fd0f575"
      },
      "source": [
        "<a id=\"7.7.g\"></a>\n",
        "<font color=\"purple\" size=+0.5><b>7.7.g ROC (Receiver Operating Curve) and AUC (Area Under Curve)</b></font>\n",
        "\n",
        "<a href=\"#toc\" class=\"btn btn-primary btn-sm\" role=\"button\" aria-pressed=\"true\" style=\"color:white\" data-toggle=\"popover\">Table of Contents</a>"
      ]
    },
    {
      "cell_type": "code",
      "execution_count": null,
      "metadata": {
        "id": "75708de2"
      },
      "outputs": [],
      "source": [
        "plot_roc_curve(ada_grid_model, X_test, y_test);"
      ]
    },
    {
      "cell_type": "code",
      "execution_count": null,
      "metadata": {
        "id": "bba865b2"
      },
      "outputs": [],
      "source": [
        "plot_precision_recall_curve(ada_grid_model, X_test, y_test);"
      ]
    },
    {
      "cell_type": "code",
      "execution_count": null,
      "metadata": {
        "id": "862a609c"
      },
      "outputs": [],
      "source": [
        "y_pred = ada_grid_model.predict(X_test_scaled)"
      ]
    },
    {
      "cell_type": "code",
      "execution_count": null,
      "metadata": {
        "id": "e30dbc1e"
      },
      "outputs": [],
      "source": [
        "ab_acc = accuracy_score(y_test, y_pred)"
      ]
    },
    {
      "cell_type": "code",
      "execution_count": null,
      "metadata": {
        "id": "5534e919"
      },
      "outputs": [],
      "source": [
        "ab_acc = ada_scorer[\"test_set\"][0]"
      ]
    },
    {
      "cell_type": "markdown",
      "metadata": {
        "id": "22a97afd"
      },
      "source": [
        "<a id=\"7.8\"></a>\n",
        "<font color=\"purple\" size=+1.5><b>7.8 The Implementation of XGBoosting (XGB)</b></font>\n",
        "\n",
        "<a href=\"#toc\" class=\"btn btn-primary btn-sm\" role=\"button\" aria-pressed=\"true\" style=\"color:white\" data-toggle=\"popover\">Table of Contents</a>\n",
        "\n",
        "**First let's take a close look at the models' accuracy scores for comparing the results given by Scaled, Not Scaled, Balanced and Not Balanced models.**"
      ]
    },
    {
      "cell_type": "markdown",
      "metadata": {
        "id": "1e34cdbd"
      },
      "source": [
        "<a id=\"7.8.a\"></a>\n",
        "<font color=\"purple\" size=+0.5><b>7.8.a Modelling XGBoosting (XGB) with Default Parameters & Model Performance</b></font>\n",
        "\n",
        "<a href=\"#toc\" class=\"btn btn-primary btn-sm\" role=\"button\" aria-pressed=\"true\" style=\"color:white\" data-toggle=\"popover\">Table of Contents</a>"
      ]
    },
    {
      "cell_type": "code",
      "execution_count": null,
      "metadata": {
        "id": "5jIXKajFuTK9"
      },
      "outputs": [],
      "source": [
        "X_train_scaled"
      ]
    },
    {
      "cell_type": "code",
      "execution_count": null,
      "metadata": {
        "id": "DQGIGfcxuBgO"
      },
      "outputs": [],
      "source": [
        "k= pd.DataFrame(X_train_scaled)"
      ]
    },
    {
      "cell_type": "code",
      "execution_count": null,
      "metadata": {
        "id": "U_ntVB3rue_O"
      },
      "outputs": [],
      "source": [
        "t= pd.DataFrame(X_test_scaled)"
      ]
    },
    {
      "cell_type": "code",
      "execution_count": null,
      "metadata": {
        "id": "gPkNwIR0tLpK"
      },
      "outputs": [],
      "source": [
        "train_x = k.values\n",
        "test_x = t.values"
      ]
    },
    {
      "cell_type": "code",
      "execution_count": null,
      "metadata": {
        "id": "rT_AkPhZvOa3"
      },
      "outputs": [],
      "source": [
        "train_x"
      ]
    },
    {
      "cell_type": "code",
      "execution_count": null,
      "metadata": {
        "id": "0574a475"
      },
      "outputs": [],
      "source": [
        "clf8.fit(X_train, y_train)\n",
        "model_scorer(clf8,X_train, y_train, X_test, y_test)"
      ]
    },
    {
      "cell_type": "markdown",
      "metadata": {
        "id": "46211fa9"
      },
      "source": [
        "<a id=\"7.8.d\"></a>\n",
        "<font color=\"purple\" size=+0.5><b>7.8.d Modelling XGBoosting (XGB) with Best Parameters Using GridSearchCV</b></font>\n",
        "\n",
        "<a href=\"#toc\" class=\"btn btn-primary btn-sm\" role=\"button\" aria-pressed=\"true\" style=\"color:white\" data-toggle=\"popover\">Table of Contents</a>\n",
        "\n",
        "**Let's look at the best parameters & estimator found by GridSearchCV.**"
      ]
    },
    {
      "cell_type": "code",
      "execution_count": null,
      "metadata": {
        "id": "59abc393"
      },
      "outputs": [],
      "source": [
        "xgb_params = {\"n_estimators\": [100, 500, 1000],\n",
        "             \"subsample\":[0.6,0.8,1],\n",
        "             \"max_depth\":[3,5,7],\n",
        "             \"learning_rate\":[0.1,0.001,0.01]}"
      ]
    },
    {
      "cell_type": "code",
      "execution_count": null,
      "metadata": {
        "id": "92c00164"
      },
      "outputs": [],
      "source": [
        "xgb_grid_model = GridSearchCV(clf8, xgb_params, cv = 10,\n",
        "                            n_jobs = -1, verbose = 2).fit(X_train, y_train)"
      ]
    },
    {
      "cell_type": "code",
      "execution_count": null,
      "metadata": {
        "id": "ac30ec09"
      },
      "outputs": [],
      "source": [
        "xgb_grid_model.best_params_"
      ]
    },
    {
      "cell_type": "code",
      "execution_count": null,
      "metadata": {
        "id": "bc3313ad"
      },
      "outputs": [],
      "source": [
        "xgb_scorer = model_scorer(xgb_grid_model, X_train, y_train, X_test, y_test)\n",
        "xgb_scorer"
      ]
    },
    {
      "cell_type": "code",
      "execution_count": null,
      "metadata": {
        "id": "40301bbc"
      },
      "outputs": [],
      "source": [
        "df.columns"
      ]
    },
    {
      "cell_type": "markdown",
      "metadata": {
        "id": "5265b839"
      },
      "source": [
        "<a id=\"7.8.e\"></a>\n",
        "<font color=\"purple\" size=+0.5><b>7.8.e ROC (Receiver Operating Curve) and AUC (Area Under Curve)</b></font>\n",
        "\n",
        "<a href=\"#toc\" class=\"btn btn-primary btn-sm\" role=\"button\" aria-pressed=\"true\" style=\"color:white\" data-toggle=\"popover\">Table of Contents</a>"
      ]
    },
    {
      "cell_type": "code",
      "execution_count": null,
      "metadata": {
        "id": "a33393ff"
      },
      "outputs": [],
      "source": [
        "plot_roc_curve(xgb_grid_model, X_test, y_test);"
      ]
    },
    {
      "cell_type": "code",
      "execution_count": null,
      "metadata": {
        "id": "a853ae9b"
      },
      "outputs": [],
      "source": [
        "plot_precision_recall_curve(xgb_grid_model, X_test, y_test);"
      ]
    },
    {
      "cell_type": "code",
      "execution_count": null,
      "metadata": {
        "id": "3ba4d46c"
      },
      "outputs": [],
      "source": [
        "y_pred = xgb_grid_model.predict(X_test)"
      ]
    },
    {
      "cell_type": "code",
      "execution_count": null,
      "metadata": {
        "id": "ffbc12df"
      },
      "outputs": [],
      "source": [
        "xb_acc = xgb_scorer[\"test_set\"][0]"
      ]
    },
    {
      "cell_type": "code",
      "execution_count": null,
      "metadata": {
        "id": "cKsT5pLeXPkx"
      },
      "outputs": [],
      "source": [
        "xgb_grid_model.feature_names_in_"
      ]
    },
    {
      "cell_type": "code",
      "execution_count": null,
      "metadata": {
        "id": "aBj8cKfLXPky"
      },
      "outputs": [],
      "source": [
        "xgb_grid_model.best_estimator_.feature_importances_"
      ]
    },
    {
      "cell_type": "code",
      "execution_count": null,
      "metadata": {
        "id": "UhKuwDhmXPkz"
      },
      "outputs": [],
      "source": [
        "feats = pd.DataFrame(index=X.columns, data=xgb_grid_model.best_estimator_.feature_importances_, columns=[\"Feature Importance\"])\n",
        "XGB_feature_imp = feats.sort_values(\"Feature Importance\", ascending=False)\n",
        "\n",
        "XGB_feature_imp"
      ]
    },
    {
      "cell_type": "code",
      "execution_count": null,
      "metadata": {
        "id": "Oq16Q7jQXPk0"
      },
      "outputs": [],
      "source": [
        "plt.figure(figsize=(12,6))\n",
        "sns.barplot(y=XGB_feature_imp[\"Feature Importance\"], x=XGB_feature_imp.index)\n",
        "\n",
        "plt.title(\"Feature Importance\")\n",
        "plt.xticks(rotation=45)\n",
        "plt.show()"
      ]
    },
    {
      "cell_type": "markdown",
      "metadata": {
        "id": "7d958de0"
      },
      "source": [
        "<a id=\"8\"></a>\n",
        "<font color=\"purple\" size=+2.5><b>8) THE COMPARISON OF MODELS</b></font>\n",
        "\n",
        "<a href=\"#toc\" class=\"btn btn-primary btn-sm\" role=\"button\" aria-pressed=\"true\" style=\"color:white\" data-toggle=\"popover\">Table of Contents</a>"
      ]
    },
    {
      "cell_type": "code",
      "execution_count": null,
      "metadata": {
        "id": "982f1b40"
      },
      "outputs": [],
      "source": [
        "model_scorer = pd.concat((log_scorer, svm_scorer, DT_scorer, knn_scorer, gb_scorer, ada_scorer, xgb_scorer), axis=1)\n",
        "model_scorer"
      ]
    },
    {
      "cell_type": "code",
      "execution_count": null,
      "metadata": {
        "id": "71c28785",
        "outputId": "317ed940-24ab-469b-806d-0e68a4dd02ac",
        "colab": {
          "base_uri": "https://localhost:8080/",
          "height": 219
        }
      },
      "outputs": [
        {
          "output_type": "error",
          "ename": "NameError",
          "evalue": "name 'pd' is not defined",
          "traceback": [
            "\u001b[0;31m---------------------------------------------------------------------------\u001b[0m",
            "\u001b[0;31mNameError\u001b[0m                                 Traceback (most recent call last)",
            "\u001b[0;32m<ipython-input-1-5983d543c920>\u001b[0m in \u001b[0;36m<cell line: 1>\u001b[0;34m()\u001b[0m\n\u001b[0;32m----> 1\u001b[0;31m compare = pd.DataFrame({\"Model\": [\"Logistic Regression\", \"SVM\", \"KNN\", \"Decision Tree\", \"Random Forest\", \"AdaBoost\", \"GradientBoost\", \"XGBoost\"],\n\u001b[0m\u001b[1;32m      2\u001b[0m                         \"accuracy\": [log_acc, svm_acc, knn_acc, dt_acc, rf_acc, ab_acc, gb_acc, xb_acc]})\n\u001b[1;32m      3\u001b[0m \u001b[0;32mdef\u001b[0m \u001b[0mlabels\u001b[0m\u001b[0;34m(\u001b[0m\u001b[0max\u001b[0m\u001b[0;34m)\u001b[0m\u001b[0;34m:\u001b[0m\u001b[0;34m\u001b[0m\u001b[0;34m\u001b[0m\u001b[0m\n\u001b[1;32m      4\u001b[0m     \u001b[0;32mfor\u001b[0m \u001b[0mp\u001b[0m \u001b[0;32min\u001b[0m \u001b[0max\u001b[0m\u001b[0;34m.\u001b[0m\u001b[0mpatches\u001b[0m\u001b[0;34m:\u001b[0m\u001b[0;34m\u001b[0m\u001b[0;34m\u001b[0m\u001b[0m\n\u001b[1;32m      5\u001b[0m         \u001b[0mwidth\u001b[0m \u001b[0;34m=\u001b[0m \u001b[0mp\u001b[0m\u001b[0;34m.\u001b[0m\u001b[0mget_width\u001b[0m\u001b[0;34m(\u001b[0m\u001b[0;34m)\u001b[0m\u001b[0;34m\u001b[0m\u001b[0;34m\u001b[0m\u001b[0m\n",
            "\u001b[0;31mNameError\u001b[0m: name 'pd' is not defined"
          ]
        }
      ],
      "source": [
        "\n",
        "\n",
        "compare = pd.DataFrame({\"Model\": [\"Logistic Regression\", \"SVM\", \"KNN\", \"Decision Tree\", \"Random Forest\", \"AdaBoost\", \"GradientBoost\", \"XGBoost\"],\n",
        "                        \"accuracy\": [log_acc, svm_acc, knn_acc, dt_acc, rf_acc, ab_acc, gb_acc, xb_acc]})\n",
        "def labels(ax):\n",
        "    for p in ax.patches:\n",
        "        width = p.get_width()\n",
        "        ax.text(width,\n",
        "                p.get_y() + p.get_height() / 2,\n",
        "                '{:1.3f}'.format(width),\n",
        "                ha = 'left',\n",
        "                va = 'center')\n",
        "\n",
        "plt.figure(figsize=(14,14))\n",
        "plt.subplot(411)\n",
        "compare = compare.sort_values(by=\"accuracy\", ascending=False)\n",
        "ax=sns.barplot(x=\"accuracy\", y=\"Model\", data=compare, palette=\"Blues_d\")\n",
        "labels(ax)"
      ]
    },
    {
      "cell_type": "markdown",
      "metadata": {
        "id": "MuqxHKgXocMG"
      },
      "source": [
        "-"
      ]
    },
    {
      "cell_type": "markdown",
      "metadata": {
        "id": "f5a4416e"
      },
      "source": [
        "<a id=\"9\"></a>\n",
        "<font color=\"lightseagreen\" size=+2.5><b>9) CONCLUSION</b></font>\n",
        "\n",
        "<a href=\"#toc\" class=\"btn btn-primary btn-sm\" role=\"button\" aria-pressed=\"true\"\n",
        "style=\"color:white\" data-toggle=\"popover\">Table of Contents</a>"
      ]
    },
    {
      "cell_type": "code",
      "execution_count": null,
      "metadata": {
        "id": "c3e7376b"
      },
      "outputs": [],
      "source": [
        "import pickle"
      ]
    },
    {
      "cell_type": "code",
      "execution_count": null,
      "metadata": {
        "id": "85fac686"
      },
      "outputs": [],
      "source": [
        "final_model = XGBClassifier(learning_rate= 0.1, max_depth= 3, n_estimators= 100, subsample= 0.6,random_state=101).fit(X_train_scaled, y_train)"
      ]
    },
    {
      "cell_type": "code",
      "execution_count": null,
      "metadata": {
        "id": "bb87e969"
      },
      "outputs": [],
      "source": [
        "pickle.dump(final_model, open(\"final_model_of_brain_data\", 'wb'))"
      ]
    },
    {
      "cell_type": "code",
      "execution_count": null,
      "metadata": {
        "id": "cdd8e09c"
      },
      "outputs": [],
      "source": [
        "df1=predict.drop(\"C-Risk Level\",axis=1)"
      ]
    },
    {
      "cell_type": "code",
      "execution_count": null,
      "metadata": {
        "id": "6de7317d"
      },
      "outputs": [],
      "source": [
        "predict_df=scaler.transform(df1)"
      ]
    },
    {
      "cell_type": "code",
      "execution_count": null,
      "metadata": {
        "id": "2a598f72"
      },
      "outputs": [],
      "source": [
        "final_model.predict(predict_df)"
      ]
    },
    {
      "cell_type": "code",
      "execution_count": null,
      "metadata": {
        "id": "K-Lnku7ZXPk5"
      },
      "outputs": [],
      "source": [
        "confusion_matrix(y_test, y_pred)"
      ]
    },
    {
      "cell_type": "code",
      "execution_count": null,
      "metadata": {
        "id": "iDU4YCFjXPk6"
      },
      "outputs": [],
      "source": [
        "plot_confusion_matrix(final_model, X_test, y_test)"
      ]
    },
    {
      "cell_type": "markdown",
      "metadata": {
        "id": "zSnyy_0iXPk7"
      },
      "source": [
        "According to this project,\n",
        "\n",
        "As we mentioned at the beginning, brain tumors are divided into two types, benign and malignant.\n",
        "\n",
        "We tried to detect this situation by using machine learning algorithms by analyzing the values in our data.\n",
        "\n",
        "We have made the detailed exploratory analysis (EDA).\n",
        "\n",
        "There is NO missing values in our Dataset.\n",
        "\n",
        "We have decided which metrics will be used.\n",
        "\n",
        "We have analyzed both target and features in detail.\n",
        "\n",
        "Our multiple models gave excellent results.\n",
        "\n",
        "We chosed Xgboost to our final model, that is known widely used in this market.\n",
        "\n",
        "We have examined the feature importance of final models.\n",
        "\n",
        "Lastly we have examined the results of all models visually with respect to select the best one for the problem in hand.\n",
        "\n",
        "Any contribution will be appriciated.\n",
        "\n",
        "\n",
        "\n"
      ]
    },
    {
      "cell_type": "markdown",
      "metadata": {
        "id": "6e9fb828"
      },
      "source": [
        "<a id=\"10\"></a>\n",
        "<font color=\"lightseagreen\" size=+2.5><b>10) REFERENCES</b></font>\n",
        "\n"
      ]
    },
    {
      "cell_type": "markdown",
      "metadata": {
        "id": "4TD9Ihvjn8FW"
      },
      "source": [
        "- Clarusway LMS  notes.\n",
        "- https://data.world/seekersoftec/risk-of-brain-tumor/workspace/file?filename=risk_of_brain_tumor.csv\n",
        "-https://www.ttb.org.tr/sted/sted1299/st12991#:~:text=Konv%C3%BClsiyon%2C%20bir%20grup%20n%C3%B6ronun%20paroksismal,n%C3%B6rolojik%20defisiti%20%C3%B6nlemek%20a%C3%A7%C4%B1s%C4%B1ndan%20%C3%B6nemlidir.\n",
        "- https://www.analyticsvidhya.com/blog/2021/05/exploratory-data-analysis-eda-a-step-by-step-guide/\n",
        "- https://pandas.pydata.org/docs/reference/api/pandas.read_csv.html\n",
        "- https://www.researchgate.net/publication/49814836_Problematic_standard_errors_and_confidence_intervals_for_skewness_and_kurtosis\n",
        "- https://scikit-learn.org/stable/modules/generated/sklearn.pipeline.Pipeline.html\n",
        "- https://machinelearningmastery.com/power-transforms-with-scikit-learn/\n",
        "- https://en.wikipedia.org/wiki/Dummy_variable_(statistics)\n",
        "- https://data.world/seekersoftec/risk-of-brain-tumor/workspace/file?filename=risk_of_brain_tumor.csv\n",
        "- https://stattrek.com/multiple-regression/dummy-variables.aspx\n",
        "- https://en.wikipedia.org/wiki/Feature_scaling\n",
        "- https://www.dataschool.io/comparing-supervised-learning-algorithms/\n",
        "- https://machinelearningmastery.com/handle-missing-data-python/\n",
        "- https://www.kaggle.com/code/azizozmen/heart-failure-predict-8-classification-techniques\n",
        "- https://www.kaggle.com/kaanboke/feature-selection-the-most-common-methods-to-know\n",
        "- https://machinelearninggeek.com/feature-scaling-minmax-standard-and-robust-scaler/\n",
        "\n",
        "\n"
      ]
    },
    {
      "cell_type": "markdown",
      "metadata": {
        "id": "f6f7fdb7"
      },
      "source": [
        "<a id=\"11\"></a>\n",
        "<font color=\"lightseagreen\" size=+2.5><b>11) FURTHER READINGS</b></font>\n",
        "\n",
        "<a href=\"#toc\" class=\"btn btn-primary btn-sm\" role=\"button\" aria-pressed=\"true\"\n",
        "style=\"color:white\" data-toggle=\"popover\"></a>"
      ]
    },
    {
      "cell_type": "markdown",
      "metadata": {
        "id": "MxHxdEVnnL2M"
      },
      "source": [
        "- Lets meet Deep Learning :)"
      ]
    },
    {
      "cell_type": "markdown",
      "metadata": {
        "id": "gqLYiphMXPk9"
      },
      "source": [
        "A Deep Learning Approach for Brain Tumor Classification and Segmentation Using a Multiscale Convolutional Neural Network external link https://www.ncbi.nlm.nih.gov/pmc/articles/PMC7912940/\n",
        "\n",
        "Everitt, B. S.; Skrondal, A. (2010), The Cambridge Dictionary of Statistics, Cambridge University Press.\n",
        "\n",
        "https://www.sciencedirect.com/science/article/abs/pii/S1361841516300330#:~:text=A%20fast%20and%20accurate%20fully,the%20state%20of%20the%20art.&text=The%20method%20is%20based%20on,specific%20to%20brain%20tumor%20segmentation.\n",
        "\n",
        "https://www.amazon.com/Introduction-Machine-Learning-Python-Scientists/dp/1449369413\n",
        "\n",
        "Neural Networks from Scratch in Python (by Kinsley § Kukiela) external link text\n",
        "\n",
        "Practical Statistics for Data Scientists (by Bruce & Gedeck) external link text\n",
        "\n",
        "Applications of Deep Neural Networks(by Jeff Heaton) external link text\n",
        "\n",
        "Applied Predictive Modeling (by Kuhn & Johnson) external link text\n",
        "\n",
        "Hands-On Machine Learning with Scikit-Learn, Keras, and TensorFlow (by Aurélien Géron) external link text\n",
        "\n",
        "Python Feature Engineering Cookbook (by Galli) external link text\n",
        "\n",
        "https://ieeexplore.ieee.org/abstract/document/8862575\n",
        "\n",
        "https://dergipark.org.tr/en/download/article-file/1556139\n",
        "\n",
        "Imbalanced Classification with Python(by Brownlee) external link https://www.ncbi.nlm.nih.gov/pmc/articles/PMC7289260/\n",
        "\n",
        "Role of deep learning in brain tumor detection and classification (2015 to 2020): A review"
      ]
    },
    {
      "cell_type": "markdown",
      "metadata": {
        "id": "jdHvdpI1XPk-"
      },
      "source": [
        "Thank you for reading. Happy daysss..."
      ]
    },
    {
      "cell_type": "markdown",
      "metadata": {
        "id": "o3fQzQPkXPk-"
      },
      "source": [
        "\n",
        "\n",
        "\n",
        "![](https://cdn.dribbble.com/users/85713/screenshots/5373780/media/21aa496e4b8e21155b47158aa93edc43.gif)"
      ]
    }
  ],
  "metadata": {
    "colab": {
      "provenance": [],
      "include_colab_link": true
    },
    "kernelspec": {
      "display_name": "Python 3",
      "language": "python",
      "name": "python3"
    },
    "language_info": {
      "codemirror_mode": {
        "name": "ipython",
        "version": 3
      },
      "file_extension": ".py",
      "mimetype": "text/x-python",
      "name": "python",
      "nbconvert_exporter": "python",
      "pygments_lexer": "ipython3",
      "version": "3.7.12"
    }
  },
  "nbformat": 4,
  "nbformat_minor": 0
}